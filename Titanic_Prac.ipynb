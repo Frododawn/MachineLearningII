{
 "cells": [
  {
   "cell_type": "code",
   "execution_count": 1,
   "id": "37783fe2",
   "metadata": {},
   "outputs": [],
   "source": [
    "import pandas as pd"
   ]
  },
  {
   "cell_type": "code",
   "execution_count": 2,
   "id": "74337d6f",
   "metadata": {},
   "outputs": [
    {
     "name": "stdout",
     "output_type": "stream",
     "text": [
      "     PassengerId  Survived  Pclass  \\\n",
      "0              1         0       3   \n",
      "1              2         1       1   \n",
      "2              3         1       3   \n",
      "3              4         1       1   \n",
      "4              5         0       3   \n",
      "..           ...       ...     ...   \n",
      "886          887         0       2   \n",
      "887          888         1       1   \n",
      "888          889         0       3   \n",
      "889          890         1       1   \n",
      "890          891         0       3   \n",
      "\n",
      "                                                  Name     Sex   Age  SibSp  \\\n",
      "0                              Braund, Mr. Owen Harris    male  22.0      1   \n",
      "1    Cumings, Mrs. John Bradley (Florence Briggs Th...  female  38.0      1   \n",
      "2                               Heikkinen, Miss. Laina  female  26.0      0   \n",
      "3         Futrelle, Mrs. Jacques Heath (Lily May Peel)  female  35.0      1   \n",
      "4                             Allen, Mr. William Henry    male  35.0      0   \n",
      "..                                                 ...     ...   ...    ...   \n",
      "886                              Montvila, Rev. Juozas    male  27.0      0   \n",
      "887                       Graham, Miss. Margaret Edith  female  19.0      0   \n",
      "888           Johnston, Miss. Catherine Helen \"Carrie\"  female   NaN      1   \n",
      "889                              Behr, Mr. Karl Howell    male  26.0      0   \n",
      "890                                Dooley, Mr. Patrick    male  32.0      0   \n",
      "\n",
      "     Parch            Ticket     Fare Cabin Embarked  \n",
      "0        0         A/5 21171   7.2500   NaN        S  \n",
      "1        0          PC 17599  71.2833   C85        C  \n",
      "2        0  STON/O2. 3101282   7.9250   NaN        S  \n",
      "3        0            113803  53.1000  C123        S  \n",
      "4        0            373450   8.0500   NaN        S  \n",
      "..     ...               ...      ...   ...      ...  \n",
      "886      0            211536  13.0000   NaN        S  \n",
      "887      0            112053  30.0000   B42        S  \n",
      "888      2        W./C. 6607  23.4500   NaN        S  \n",
      "889      0            111369  30.0000  C148        C  \n",
      "890      0            370376   7.7500   NaN        Q  \n",
      "\n",
      "[891 rows x 12 columns]\n"
     ]
    }
   ],
   "source": [
    "df = pd.read_csv (r'F:\\Schools\\SMU\\CSV files\\titanic.csv')\n",
    "print (df)"
   ]
  },
  {
   "cell_type": "code",
   "execution_count": 3,
   "id": "16578f82",
   "metadata": {},
   "outputs": [
    {
     "name": "stdout",
     "output_type": "stream",
     "text": [
      "<class 'pandas.core.frame.DataFrame'>\n",
      "RangeIndex: 891 entries, 0 to 890\n",
      "Data columns (total 12 columns):\n",
      " #   Column       Non-Null Count  Dtype  \n",
      "---  ------       --------------  -----  \n",
      " 0   PassengerId  891 non-null    int64  \n",
      " 1   Survived     891 non-null    int64  \n",
      " 2   Pclass       891 non-null    int64  \n",
      " 3   Name         891 non-null    object \n",
      " 4   Sex          891 non-null    object \n",
      " 5   Age          714 non-null    float64\n",
      " 6   SibSp        891 non-null    int64  \n",
      " 7   Parch        891 non-null    int64  \n",
      " 8   Ticket       891 non-null    object \n",
      " 9   Fare         891 non-null    float64\n",
      " 10  Cabin        204 non-null    object \n",
      " 11  Embarked     889 non-null    object \n",
      "dtypes: float64(2), int64(5), object(5)\n",
      "memory usage: 83.7+ KB\n"
     ]
    }
   ],
   "source": [
    "df.info()"
   ]
  },
  {
   "cell_type": "code",
   "execution_count": 4,
   "id": "7d0f385c",
   "metadata": {},
   "outputs": [],
   "source": [
    "games = ['Dying Light', 'Borderlands', 'Darq','Phasmophobia']"
   ]
  },
  {
   "cell_type": "code",
   "execution_count": 5,
   "id": "63867d79",
   "metadata": {},
   "outputs": [
    {
     "name": "stdout",
     "output_type": "stream",
     "text": [
      "['Dying Light', 'Borderlands', 'Darq', 'Phasmophobia']\n"
     ]
    }
   ],
   "source": [
    "print(games)"
   ]
  },
  {
   "cell_type": "code",
   "execution_count": 6,
   "id": "909188c2",
   "metadata": {},
   "outputs": [
    {
     "name": "stdout",
     "output_type": "stream",
     "text": [
      "['Dying Light', 'Borderlands', 'Darq', 'Phasmophobia', 'Osiris: New Dawn']\n"
     ]
    }
   ],
   "source": [
    "games.append(\"Osiris: New Dawn\")\n",
    "print(games)"
   ]
  },
  {
   "cell_type": "code",
   "execution_count": 7,
   "id": "13dfec3b",
   "metadata": {},
   "outputs": [
    {
     "name": "stdout",
     "output_type": "stream",
     "text": [
      "['Dying Light', 'Borderlands', 'Darq', 'Phasmophobia', 'aquaman', 'venom', 'the martian']\n"
     ]
    }
   ],
   "source": [
    "games = ['Dying Light', 'Borderlands', 'Darq','Phasmophobia']\n",
    "movies = ['aquaman', 'venom', 'the martian']\n",
    "games.extend(movies)\n",
    "print(games)"
   ]
  },
  {
   "cell_type": "code",
   "execution_count": 8,
   "id": "bb0193b0",
   "metadata": {},
   "outputs": [
    {
     "name": "stdout",
     "output_type": "stream",
     "text": [
      "2\n"
     ]
    }
   ],
   "source": [
    "games = ['Dying Light', 'Borderlands', 'Darq','Phasmophobia']\n",
    "\n",
    "x = games.index(\"Darq\")\n",
    "\n",
    "print(x)"
   ]
  },
  {
   "cell_type": "code",
   "execution_count": 9,
   "id": "cdae4b8d",
   "metadata": {},
   "outputs": [
    {
     "name": "stdout",
     "output_type": "stream",
     "text": [
      "3\n"
     ]
    }
   ],
   "source": [
    "age = [4, 55, 64, 32, 16, 32]\n",
    "\n",
    "x = age.index(32)\n",
    "print(x)"
   ]
  },
  {
   "cell_type": "code",
   "execution_count": 10,
   "id": "5ea1217c",
   "metadata": {},
   "outputs": [
    {
     "name": "stdout",
     "output_type": "stream",
     "text": [
      "['Dying Light', 'Split', 'Borderlands', 'Darq', 'Phasmophobia']\n"
     ]
    }
   ],
   "source": [
    "games = ['Dying Light', 'Borderlands', 'Darq','Phasmophobia']\n",
    "\n",
    "games.insert(1, \"Split\")\n",
    "\n",
    "print(games)"
   ]
  },
  {
   "cell_type": "code",
   "execution_count": 11,
   "id": "d3b905b3",
   "metadata": {},
   "outputs": [
    {
     "name": "stdout",
     "output_type": "stream",
     "text": [
      "['Dying Light', 'Borderlands', 'Darq']\n"
     ]
    }
   ],
   "source": [
    "games = ['Dying Light', 'Borderlands', 'Darq','Phasmophobia']\n",
    "games.remove('Phasmophobia')\n",
    "print(games)"
   ]
  },
  {
   "cell_type": "code",
   "execution_count": 12,
   "id": "269842a4",
   "metadata": {},
   "outputs": [
    {
     "name": "stdout",
     "output_type": "stream",
     "text": [
      "['Dying Light', 'Darq', 'Phasmophobia']\n"
     ]
    }
   ],
   "source": [
    "games = ['Dying Light', 'Borderlands', 'Darq','Phasmophobia']\n",
    "games.pop(1)\n",
    "print(games)"
   ]
  },
  {
   "cell_type": "code",
   "execution_count": 13,
   "id": "4173d020",
   "metadata": {},
   "outputs": [
    {
     "name": "stdout",
     "output_type": "stream",
     "text": [
      "2\n"
     ]
    }
   ],
   "source": [
    "games = ['Dying Light', 'Borderlands', 'Darq','Phasmophobia', 'Darq']\n",
    "x = games.count(\"Darq\")\n",
    "print(x)"
   ]
  },
  {
   "cell_type": "code",
   "execution_count": 14,
   "id": "3b74566e",
   "metadata": {},
   "outputs": [
    {
     "name": "stdout",
     "output_type": "stream",
     "text": [
      "['Phasmophobia', 'Darq', 'Borderlands', 'Dying Light']\n"
     ]
    }
   ],
   "source": [
    "games = ['Dying Light', 'Borderlands', 'Darq','Phasmophobia']\n",
    "games.reverse()\n",
    "print(games)"
   ]
  },
  {
   "cell_type": "code",
   "execution_count": 15,
   "id": "a4d4b167",
   "metadata": {},
   "outputs": [
    {
     "name": "stdout",
     "output_type": "stream",
     "text": [
      "['Borderlands', 'Darq', 'Dying Light', 'Phasmophobia']\n"
     ]
    }
   ],
   "source": [
    "games = ['Dying Light', 'Borderlands', 'Darq','Phasmophobia']\n",
    "games.sort()\n",
    "print(games)"
   ]
  },
  {
   "cell_type": "code",
   "execution_count": 16,
   "id": "7bb376b6",
   "metadata": {},
   "outputs": [
    {
     "data": {
      "text/plain": [
       "[6, 6, 3]"
      ]
     },
     "execution_count": 16,
     "metadata": {},
     "output_type": "execute_result"
    }
   ],
   "source": [
    "[6]+[6]+[3]"
   ]
  },
  {
   "cell_type": "code",
   "execution_count": 17,
   "id": "db667835",
   "metadata": {},
   "outputs": [
    {
     "data": {
      "text/plain": [
       "['fruit', 'soda', 'chips', 'fruit', 'soda', 'chips', 'fruit', 'soda', 'chips']"
      ]
     },
     "execution_count": 17,
     "metadata": {},
     "output_type": "execute_result"
    }
   ],
   "source": [
    "['fruit','soda','chips'] * 3"
   ]
  },
  {
   "cell_type": "code",
   "execution_count": 18,
   "id": "1c319f08",
   "metadata": {},
   "outputs": [
    {
     "data": {
      "text/plain": [
       "['cat', 1, 3, 76]"
      ]
     },
     "execution_count": 18,
     "metadata": {},
     "output_type": "execute_result"
    }
   ],
   "source": [
    "[5,2,'cat',1,3,76][2:]"
   ]
  },
  {
   "cell_type": "code",
   "execution_count": 19,
   "id": "5c614453",
   "metadata": {},
   "outputs": [
    {
     "data": {
      "text/plain": [
       "[2, 3]"
      ]
     },
     "execution_count": 19,
     "metadata": {},
     "output_type": "execute_result"
    }
   ],
   "source": [
    "[x for x in [2,3]]"
   ]
  },
  {
   "cell_type": "code",
   "execution_count": 20,
   "id": "10bda655",
   "metadata": {},
   "outputs": [],
   "source": [
    "a = [2,3]\n",
    "b = []\n",
    "for x in a:\n",
    "    b.append(x)\n",
    "    "
   ]
  },
  {
   "cell_type": "code",
   "execution_count": 21,
   "id": "17a81f4e",
   "metadata": {},
   "outputs": [
    {
     "data": {
      "text/plain": [
       "[1]"
      ]
     },
     "execution_count": 21,
     "metadata": {},
     "output_type": "execute_result"
    }
   ],
   "source": [
    "[x for x in [1,2] if x ==1]"
   ]
  },
  {
   "cell_type": "code",
   "execution_count": 22,
   "id": "bcdd1724",
   "metadata": {},
   "outputs": [
    {
     "data": {
      "text/plain": [
       "[2, 4, 6, 8]"
      ]
     },
     "execution_count": 22,
     "metadata": {},
     "output_type": "execute_result"
    }
   ],
   "source": [
    " [y*2 for x in [[1,2],[3,4]] for y in x]"
   ]
  },
  {
   "cell_type": "code",
   "execution_count": 23,
   "id": "ef7b1295",
   "metadata": {},
   "outputs": [],
   "source": [
    "A = [1]"
   ]
  },
  {
   "cell_type": "code",
   "execution_count": 24,
   "id": "6dce210a",
   "metadata": {},
   "outputs": [
    {
     "name": "stdout",
     "output_type": "stream",
     "text": [
      "[1]\n"
     ]
    }
   ],
   "source": [
    "print(A)"
   ]
  },
  {
   "cell_type": "code",
   "execution_count": 25,
   "id": "154e4c98",
   "metadata": {},
   "outputs": [],
   "source": [
    "a = (5, 'cat', 5, 5, 'cat', 5)"
   ]
  },
  {
   "cell_type": "code",
   "execution_count": 26,
   "id": "615b6f79",
   "metadata": {},
   "outputs": [
    {
     "name": "stdout",
     "output_type": "stream",
     "text": [
      "2\n"
     ]
    }
   ],
   "source": [
    "print(a.count('cat'))"
   ]
  },
  {
   "cell_type": "code",
   "execution_count": 27,
   "id": "7c2bc43f",
   "metadata": {},
   "outputs": [
    {
     "name": "stdout",
     "output_type": "stream",
     "text": [
      "4\n"
     ]
    }
   ],
   "source": [
    "print(a.count(5))"
   ]
  },
  {
   "cell_type": "code",
   "execution_count": 28,
   "id": "7942a637",
   "metadata": {},
   "outputs": [],
   "source": [
    "a = (5, 'cat', 5, 5, 'cat', 5)"
   ]
  },
  {
   "cell_type": "code",
   "execution_count": 29,
   "id": "fec4cc00",
   "metadata": {},
   "outputs": [
    {
     "name": "stdout",
     "output_type": "stream",
     "text": [
      "1\n"
     ]
    }
   ],
   "source": [
    "print(a.index('cat'))"
   ]
  },
  {
   "cell_type": "code",
   "execution_count": 30,
   "id": "238b0943",
   "metadata": {},
   "outputs": [
    {
     "name": "stdout",
     "output_type": "stream",
     "text": [
      "0\n"
     ]
    }
   ],
   "source": [
    "print(a.index(5))"
   ]
  },
  {
   "cell_type": "code",
   "execution_count": 31,
   "id": "b4b93d39",
   "metadata": {},
   "outputs": [
    {
     "name": "stdout",
     "output_type": "stream",
     "text": [
      "((10, 'Harris'), (11, 'Stockton'), (20, 'Hollingsworth'), (25, 'Martin'))\n"
     ]
    }
   ],
   "source": [
    "\n",
    "thistuple = ((10,\"Harris\"), (11, \"Stockton\"), (20, \"Hollingsworth\"), (25, \"Martin\"))\n",
    "print(thistuple)"
   ]
  },
  {
   "cell_type": "code",
   "execution_count": 32,
   "id": "22e65663",
   "metadata": {},
   "outputs": [
    {
     "name": "stdout",
     "output_type": "stream",
     "text": [
      "{'Harris': 10, 'Stockton': 11, 'Hollingsworth': 20, 'Martin': 25}\n"
     ]
    }
   ],
   "source": [
    "dct = dict((y, x) for x, y in thistuple)\n",
    "print(dct)"
   ]
  },
  {
   "cell_type": "code",
   "execution_count": 33,
   "id": "0502b73f",
   "metadata": {},
   "outputs": [
    {
     "name": "stdout",
     "output_type": "stream",
     "text": [
      "dragon\n",
      "unicorn\n",
      "basilisk\n"
     ]
    }
   ],
   "source": [
    "# packing into variable c\n",
    "c = (\"dragon\", \"unicorn\", \"basilisk\") \n",
    " \n",
    "# unpacking variable c\n",
    "(gold, white, green) = c \n",
    " \n",
    "print(gold)\n",
    " \n",
    "print(white)\n",
    " \n",
    "print(green)"
   ]
  },
  {
   "cell_type": "code",
   "execution_count": 34,
   "id": "ec911536",
   "metadata": {},
   "outputs": [],
   "source": [
    "a_dict = {'I hate':'you', 'You should':'leave'}"
   ]
  },
  {
   "cell_type": "code",
   "execution_count": 35,
   "id": "89a4be99",
   "metadata": {},
   "outputs": [
    {
     "name": "stdout",
     "output_type": "stream",
     "text": [
      "dict_keys(['I hate', 'You should'])\n"
     ]
    }
   ],
   "source": [
    "x = a_dict.keys()\n",
    "print(x)"
   ]
  },
  {
   "cell_type": "code",
   "execution_count": 36,
   "id": "d42bf9c9",
   "metadata": {},
   "outputs": [
    {
     "name": "stdout",
     "output_type": "stream",
     "text": [
      "dict_items([('dragon', 'gold'), ('unicorn', 'white'), ('basilisk', 'green')])\n"
     ]
    }
   ],
   "source": [
    "Myth_Creat = {'dragon':'gold', 'unicorn':'white', 'basilisk':'green'}\n",
    "    \n",
    "x = Myth_Creat.items()\n",
    "\n",
    "print(x)"
   ]
  },
  {
   "cell_type": "code",
   "execution_count": 37,
   "id": "c180b9cf",
   "metadata": {},
   "outputs": [
    {
     "data": {
      "text/plain": [
       "dict_values(['gold', 'white', 'green'])"
      ]
     },
     "execution_count": 37,
     "metadata": {},
     "output_type": "execute_result"
    }
   ],
   "source": [
    "Myth_Creat.values()"
   ]
  },
  {
   "cell_type": "code",
   "execution_count": 38,
   "id": "9c69fb8b",
   "metadata": {},
   "outputs": [],
   "source": [
    "del a_dict['I hate']"
   ]
  },
  {
   "cell_type": "code",
   "execution_count": 39,
   "id": "f68b3fbe",
   "metadata": {},
   "outputs": [
    {
     "name": "stdout",
     "output_type": "stream",
     "text": [
      "dict_keys(['You should'])\n"
     ]
    }
   ],
   "source": [
    "x = a_dict.keys()\n",
    "print(x)"
   ]
  },
  {
   "cell_type": "code",
   "execution_count": 40,
   "id": "f114a090",
   "metadata": {},
   "outputs": [
    {
     "name": "stdout",
     "output_type": "stream",
     "text": [
      "dict_keys(['I hate', 'You should'])\n"
     ]
    }
   ],
   "source": [
    "a_dict = {'I hate':'you', 'You should':'leave'}\n",
    "x = a_dict.keys()\n",
    "print(x)"
   ]
  },
  {
   "cell_type": "code",
   "execution_count": 41,
   "id": "268eccdf",
   "metadata": {},
   "outputs": [],
   "source": [
    "a_dict.clear()"
   ]
  },
  {
   "cell_type": "code",
   "execution_count": 42,
   "id": "ec19958c",
   "metadata": {},
   "outputs": [
    {
     "name": "stdout",
     "output_type": "stream",
     "text": [
      "dict_keys([])\n"
     ]
    }
   ],
   "source": [
    "x = a_dict.keys()\n",
    "print(x)"
   ]
  },
  {
   "cell_type": "markdown",
   "id": "a6e4b68b",
   "metadata": {},
   "source": [
    "## dir():"
   ]
  },
  {
   "cell_type": "code",
   "execution_count": 43,
   "id": "4ea4aa18",
   "metadata": {},
   "outputs": [
    {
     "name": "stdout",
     "output_type": "stream",
     "text": [
      "['__class__', '__class_getitem__', '__contains__', '__delattr__', '__delitem__', '__dir__', '__doc__', '__eq__', '__format__', '__ge__', '__getattribute__', '__getitem__', '__gt__', '__hash__', '__init__', '__init_subclass__', '__ior__', '__iter__', '__le__', '__len__', '__lt__', '__ne__', '__new__', '__or__', '__reduce__', '__reduce_ex__', '__repr__', '__reversed__', '__ror__', '__setattr__', '__setitem__', '__sizeof__', '__str__', '__subclasshook__', 'clear', 'copy', 'fromkeys', 'get', 'items', 'keys', 'pop', 'popitem', 'setdefault', 'update', 'values']\n"
     ]
    }
   ],
   "source": [
    "print(dir(a_dict))"
   ]
  },
  {
   "cell_type": "code",
   "execution_count": 44,
   "id": "ef96532c",
   "metadata": {},
   "outputs": [
    {
     "name": "stdout",
     "output_type": "stream",
     "text": [
      "{'cat', 'bird', 'fish', 'dog', 'ferret'}\n"
     ]
    }
   ],
   "source": [
    "pet_set = {\"cat\", \"dog\", \"ferret\", \"bird\"}\n",
    "\n",
    "pet_set.add(\"fish\")\n",
    "\n",
    "print(pet_set)"
   ]
  },
  {
   "cell_type": "code",
   "execution_count": 45,
   "id": "acf25147",
   "metadata": {},
   "outputs": [
    {
     "name": "stdout",
     "output_type": "stream",
     "text": [
      "set()\n"
     ]
    }
   ],
   "source": [
    "pet_set.clear()\n",
    "\n",
    "print(pet_set)"
   ]
  },
  {
   "cell_type": "code",
   "execution_count": 46,
   "id": "afbd2662",
   "metadata": {},
   "outputs": [
    {
     "data": {
      "text/plain": [
       "{'bird', 'cat', 'dog', 'ferret'}"
      ]
     },
     "execution_count": 46,
     "metadata": {},
     "output_type": "execute_result"
    }
   ],
   "source": [
    "pet_set = {\"cat\", \"dog\", \"ferret\", \"bird\"}\n",
    "pet_set.copy()"
   ]
  },
  {
   "cell_type": "code",
   "execution_count": 47,
   "id": "d21ff5bb",
   "metadata": {},
   "outputs": [
    {
     "name": "stdout",
     "output_type": "stream",
     "text": [
      "{'cat', 'ferret', 'dog'}\n"
     ]
    }
   ],
   "source": [
    "pet_set = {\"cat\", \"dog\", \"ferret\", \"troll\"}\n",
    "myth = {\"dragon\", \"unicorn\", \"basilisk\", \"troll\"}\n",
    "\n",
    "pet_set_noTroll = pet_set.difference(myth)\n",
    "\n",
    "print(pet_set_noTroll) "
   ]
  },
  {
   "cell_type": "code",
   "execution_count": 48,
   "id": "6db110e6",
   "metadata": {},
   "outputs": [
    {
     "name": "stdout",
     "output_type": "stream",
     "text": [
      "{'unicorn', 'troll', 'dragon'}\n"
     ]
    }
   ],
   "source": [
    "myth = {\"dragon\", \"unicorn\", \"basilisk\", \"troll\"}\n",
    "myth.discard('basilisk')\n",
    "print(myth)"
   ]
  },
  {
   "cell_type": "code",
   "execution_count": null,
   "id": "643bd959",
   "metadata": {},
   "outputs": [],
   "source": []
  }
 ],
 "metadata": {
  "kernelspec": {
   "display_name": "Python 3 (ipykernel)",
   "language": "python",
   "name": "python3"
  },
  "language_info": {
   "codemirror_mode": {
    "name": "ipython",
    "version": 3
   },
   "file_extension": ".py",
   "mimetype": "text/x-python",
   "name": "python",
   "nbconvert_exporter": "python",
   "pygments_lexer": "ipython3",
   "version": "3.9.7"
  }
 },
 "nbformat": 4,
 "nbformat_minor": 5
}
