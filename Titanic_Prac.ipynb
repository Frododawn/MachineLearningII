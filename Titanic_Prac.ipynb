{
 "cells": [
  {
   "cell_type": "code",
   "execution_count": 1,
   "id": "37783fe2",
   "metadata": {},
   "outputs": [],
   "source": [
    "import pandas as pd"
   ]
  },
  {
   "cell_type": "code",
   "execution_count": 2,
   "id": "74337d6f",
   "metadata": {},
   "outputs": [
    {
     "name": "stdout",
     "output_type": "stream",
     "text": [
      "     PassengerId  Survived  Pclass  \\\n",
      "0              1         0       3   \n",
      "1              2         1       1   \n",
      "2              3         1       3   \n",
      "3              4         1       1   \n",
      "4              5         0       3   \n",
      "..           ...       ...     ...   \n",
      "886          887         0       2   \n",
      "887          888         1       1   \n",
      "888          889         0       3   \n",
      "889          890         1       1   \n",
      "890          891         0       3   \n",
      "\n",
      "                                                  Name     Sex   Age  SibSp  \\\n",
      "0                              Braund, Mr. Owen Harris    male  22.0      1   \n",
      "1    Cumings, Mrs. John Bradley (Florence Briggs Th...  female  38.0      1   \n",
      "2                               Heikkinen, Miss. Laina  female  26.0      0   \n",
      "3         Futrelle, Mrs. Jacques Heath (Lily May Peel)  female  35.0      1   \n",
      "4                             Allen, Mr. William Henry    male  35.0      0   \n",
      "..                                                 ...     ...   ...    ...   \n",
      "886                              Montvila, Rev. Juozas    male  27.0      0   \n",
      "887                       Graham, Miss. Margaret Edith  female  19.0      0   \n",
      "888           Johnston, Miss. Catherine Helen \"Carrie\"  female   NaN      1   \n",
      "889                              Behr, Mr. Karl Howell    male  26.0      0   \n",
      "890                                Dooley, Mr. Patrick    male  32.0      0   \n",
      "\n",
      "     Parch            Ticket     Fare Cabin Embarked  \n",
      "0        0         A/5 21171   7.2500   NaN        S  \n",
      "1        0          PC 17599  71.2833   C85        C  \n",
      "2        0  STON/O2. 3101282   7.9250   NaN        S  \n",
      "3        0            113803  53.1000  C123        S  \n",
      "4        0            373450   8.0500   NaN        S  \n",
      "..     ...               ...      ...   ...      ...  \n",
      "886      0            211536  13.0000   NaN        S  \n",
      "887      0            112053  30.0000   B42        S  \n",
      "888      2        W./C. 6607  23.4500   NaN        S  \n",
      "889      0            111369  30.0000  C148        C  \n",
      "890      0            370376   7.7500   NaN        Q  \n",
      "\n",
      "[891 rows x 12 columns]\n"
     ]
    }
   ],
   "source": [
    "df = pd.read_csv (r'F:\\Schools\\SMU\\CSV files\\titanic.csv')\n",
    "print (df)"
   ]
  },
  {
   "cell_type": "code",
   "execution_count": 3,
   "id": "16578f82",
   "metadata": {},
   "outputs": [
    {
     "name": "stdout",
     "output_type": "stream",
     "text": [
      "<class 'pandas.core.frame.DataFrame'>\n",
      "RangeIndex: 891 entries, 0 to 890\n",
      "Data columns (total 12 columns):\n",
      " #   Column       Non-Null Count  Dtype  \n",
      "---  ------       --------------  -----  \n",
      " 0   PassengerId  891 non-null    int64  \n",
      " 1   Survived     891 non-null    int64  \n",
      " 2   Pclass       891 non-null    int64  \n",
      " 3   Name         891 non-null    object \n",
      " 4   Sex          891 non-null    object \n",
      " 5   Age          714 non-null    float64\n",
      " 6   SibSp        891 non-null    int64  \n",
      " 7   Parch        891 non-null    int64  \n",
      " 8   Ticket       891 non-null    object \n",
      " 9   Fare         891 non-null    float64\n",
      " 10  Cabin        204 non-null    object \n",
      " 11  Embarked     889 non-null    object \n",
      "dtypes: float64(2), int64(5), object(5)\n",
      "memory usage: 83.7+ KB\n"
     ]
    }
   ],
   "source": [
    "df.info()"
   ]
  },
  {
   "cell_type": "code",
   "execution_count": 4,
   "id": "7d0f385c",
   "metadata": {},
   "outputs": [],
   "source": [
    "games = ['Dying Light', 'Borderlands', 'Darq','Phasmophobia']"
   ]
  },
  {
   "cell_type": "code",
   "execution_count": 5,
   "id": "63867d79",
   "metadata": {},
   "outputs": [
    {
     "name": "stdout",
     "output_type": "stream",
     "text": [
      "['Dying Light', 'Borderlands', 'Darq', 'Phasmophobia']\n"
     ]
    }
   ],
   "source": [
    "print(games)"
   ]
  },
  {
   "cell_type": "code",
   "execution_count": 6,
   "id": "909188c2",
   "metadata": {},
   "outputs": [
    {
     "name": "stdout",
     "output_type": "stream",
     "text": [
      "['Dying Light', 'Borderlands', 'Darq', 'Phasmophobia', 'Osiris: New Dawn']\n"
     ]
    }
   ],
   "source": [
    "games.append(\"Osiris: New Dawn\")\n",
    "print(games)"
   ]
  },
  {
   "cell_type": "code",
   "execution_count": 7,
   "id": "13dfec3b",
   "metadata": {},
   "outputs": [
    {
     "name": "stdout",
     "output_type": "stream",
     "text": [
      "['Dying Light', 'Borderlands', 'Darq', 'Phasmophobia', 'aquaman', 'venom', 'the martian']\n"
     ]
    }
   ],
   "source": [
    "games = ['Dying Light', 'Borderlands', 'Darq','Phasmophobia']\n",
    "movies = ['aquaman', 'venom', 'the martian']\n",
    "games.extend(movies)\n",
    "print(games)"
   ]
  },
  {
   "cell_type": "code",
   "execution_count": 8,
   "id": "bb0193b0",
   "metadata": {},
   "outputs": [
    {
     "name": "stdout",
     "output_type": "stream",
     "text": [
      "2\n"
     ]
    }
   ],
   "source": [
    "games = ['Dying Light', 'Borderlands', 'Darq','Phasmophobia']\n",
    "\n",
    "x = games.index(\"Darq\")\n",
    "\n",
    "print(x)"
   ]
  },
  {
   "cell_type": "code",
   "execution_count": 9,
   "id": "cdae4b8d",
   "metadata": {},
   "outputs": [
    {
     "name": "stdout",
     "output_type": "stream",
     "text": [
      "3\n"
     ]
    }
   ],
   "source": [
    "age = [4, 55, 64, 32, 16, 32]\n",
    "\n",
    "x = age.index(32)\n",
    "print(x)"
   ]
  },
  {
   "cell_type": "code",
   "execution_count": 10,
   "id": "5ea1217c",
   "metadata": {},
   "outputs": [
    {
     "name": "stdout",
     "output_type": "stream",
     "text": [
      "['Dying Light', 'Split', 'Borderlands', 'Darq', 'Phasmophobia']\n"
     ]
    }
   ],
   "source": [
    "games = ['Dying Light', 'Borderlands', 'Darq','Phasmophobia']\n",
    "\n",
    "games.insert(1, \"Split\")\n",
    "\n",
    "print(games)"
   ]
  },
  {
   "cell_type": "code",
   "execution_count": 11,
   "id": "d3b905b3",
   "metadata": {},
   "outputs": [
    {
     "name": "stdout",
     "output_type": "stream",
     "text": [
      "['Dying Light', 'Borderlands', 'Darq']\n"
     ]
    }
   ],
   "source": [
    "games = ['Dying Light', 'Borderlands', 'Darq','Phasmophobia']\n",
    "games.remove('Phasmophobia')\n",
    "print(games)"
   ]
  },
  {
   "cell_type": "code",
   "execution_count": 12,
   "id": "269842a4",
   "metadata": {},
   "outputs": [
    {
     "name": "stdout",
     "output_type": "stream",
     "text": [
      "['Dying Light', 'Darq', 'Phasmophobia']\n"
     ]
    }
   ],
   "source": [
    "games = ['Dying Light', 'Borderlands', 'Darq','Phasmophobia']\n",
    "games.pop(1)\n",
    "print(games)"
   ]
  },
  {
   "cell_type": "code",
   "execution_count": 13,
   "id": "4173d020",
   "metadata": {},
   "outputs": [
    {
     "name": "stdout",
     "output_type": "stream",
     "text": [
      "2\n"
     ]
    }
   ],
   "source": [
    "games = ['Dying Light', 'Borderlands', 'Darq','Phasmophobia', 'Darq']\n",
    "x = games.count(\"Darq\")\n",
    "print(x)"
   ]
  },
  {
   "cell_type": "code",
   "execution_count": 14,
   "id": "3b74566e",
   "metadata": {},
   "outputs": [
    {
     "name": "stdout",
     "output_type": "stream",
     "text": [
      "['Phasmophobia', 'Darq', 'Borderlands', 'Dying Light']\n"
     ]
    }
   ],
   "source": [
    "games = ['Dying Light', 'Borderlands', 'Darq','Phasmophobia']\n",
    "games.reverse()\n",
    "print(games)"
   ]
  },
  {
   "cell_type": "code",
   "execution_count": 15,
   "id": "a4d4b167",
   "metadata": {},
   "outputs": [
    {
     "name": "stdout",
     "output_type": "stream",
     "text": [
      "['Borderlands', 'Darq', 'Dying Light', 'Phasmophobia']\n"
     ]
    }
   ],
   "source": [
    "games = ['Dying Light', 'Borderlands', 'Darq','Phasmophobia']\n",
    "games.sort()\n",
    "print(games)"
   ]
  },
  {
   "cell_type": "code",
   "execution_count": 16,
   "id": "7bb376b6",
   "metadata": {},
   "outputs": [
    {
     "data": {
      "text/plain": [
       "[6, 6, 3]"
      ]
     },
     "execution_count": 16,
     "metadata": {},
     "output_type": "execute_result"
    }
   ],
   "source": [
    "[6]+[6]+[3]"
   ]
  },
  {
   "cell_type": "code",
   "execution_count": 17,
   "id": "db667835",
   "metadata": {},
   "outputs": [
    {
     "data": {
      "text/plain": [
       "['fruit', 'soda', 'chips', 'fruit', 'soda', 'chips', 'fruit', 'soda', 'chips']"
      ]
     },
     "execution_count": 17,
     "metadata": {},
     "output_type": "execute_result"
    }
   ],
   "source": [
    "['fruit','soda','chips'] * 3"
   ]
  },
  {
   "cell_type": "code",
   "execution_count": 18,
   "id": "1c319f08",
   "metadata": {},
   "outputs": [
    {
     "data": {
      "text/plain": [
       "['cat', 1, 3, 76]"
      ]
     },
     "execution_count": 18,
     "metadata": {},
     "output_type": "execute_result"
    }
   ],
   "source": [
    "[5,2,'cat',1,3,76][2:]"
   ]
  },
  {
   "cell_type": "code",
   "execution_count": 19,
   "id": "5c614453",
   "metadata": {},
   "outputs": [
    {
     "data": {
      "text/plain": [
       "[2, 3]"
      ]
     },
     "execution_count": 19,
     "metadata": {},
     "output_type": "execute_result"
    }
   ],
   "source": [
    "[x for x in [2,3]]"
   ]
  },
  {
   "cell_type": "code",
   "execution_count": 20,
   "id": "10bda655",
   "metadata": {},
   "outputs": [],
   "source": [
    "a = [2,3]\n",
    "b = []\n",
    "for x in a:\n",
    "    b.append(x)\n",
    "    "
   ]
  },
  {
   "cell_type": "code",
   "execution_count": 21,
   "id": "17a81f4e",
   "metadata": {},
   "outputs": [
    {
     "data": {
      "text/plain": [
       "[1]"
      ]
     },
     "execution_count": 21,
     "metadata": {},
     "output_type": "execute_result"
    }
   ],
   "source": [
    "[x for x in [1,2] if x ==1]"
   ]
  },
  {
   "cell_type": "code",
   "execution_count": 22,
   "id": "bcdd1724",
   "metadata": {},
   "outputs": [
    {
     "data": {
      "text/plain": [
       "[2, 4, 6, 8]"
      ]
     },
     "execution_count": 22,
     "metadata": {},
     "output_type": "execute_result"
    }
   ],
   "source": [
    " [y*2 for x in [[1,2],[3,4]] for y in x]"
   ]
  },
  {
   "cell_type": "code",
   "execution_count": 23,
   "id": "ef7b1295",
   "metadata": {},
   "outputs": [],
   "source": [
    "A = [1]"
   ]
  },
  {
   "cell_type": "code",
   "execution_count": 24,
   "id": "6dce210a",
   "metadata": {},
   "outputs": [
    {
     "name": "stdout",
     "output_type": "stream",
     "text": [
      "[1]\n"
     ]
    }
   ],
   "source": [
    "print(A)"
   ]
  },
  {
   "cell_type": "code",
   "execution_count": 25,
   "id": "154e4c98",
   "metadata": {},
   "outputs": [],
   "source": [
    "a = (5, 'cat', 5, 5, 'cat', 5)"
   ]
  },
  {
   "cell_type": "code",
   "execution_count": 26,
   "id": "615b6f79",
   "metadata": {},
   "outputs": [
    {
     "name": "stdout",
     "output_type": "stream",
     "text": [
      "2\n"
     ]
    }
   ],
   "source": [
    "print(a.count('cat'))"
   ]
  },
  {
   "cell_type": "code",
   "execution_count": 27,
   "id": "7c2bc43f",
   "metadata": {},
   "outputs": [
    {
     "name": "stdout",
     "output_type": "stream",
     "text": [
      "4\n"
     ]
    }
   ],
   "source": [
    "print(a.count(5))"
   ]
  },
  {
   "cell_type": "code",
   "execution_count": 28,
   "id": "7942a637",
   "metadata": {},
   "outputs": [],
   "source": [
    "a = (5, 'cat', 5, 5, 'cat', 5)"
   ]
  },
  {
   "cell_type": "code",
   "execution_count": 29,
   "id": "fec4cc00",
   "metadata": {},
   "outputs": [
    {
     "name": "stdout",
     "output_type": "stream",
     "text": [
      "1\n"
     ]
    }
   ],
   "source": [
    "print(a.index('cat'))"
   ]
  },
  {
   "cell_type": "code",
   "execution_count": 30,
   "id": "238b0943",
   "metadata": {},
   "outputs": [
    {
     "name": "stdout",
     "output_type": "stream",
     "text": [
      "0\n"
     ]
    }
   ],
   "source": [
    "print(a.index(5))"
   ]
  },
  {
   "cell_type": "code",
   "execution_count": 31,
   "id": "b4b93d39",
   "metadata": {},
   "outputs": [
    {
     "name": "stdout",
     "output_type": "stream",
     "text": [
      "((10, 'Harris'), (11, 'Stockton'), (20, 'Hollingsworth'), (25, 'Martin'))\n"
     ]
    }
   ],
   "source": [
    "\n",
    "thistuple = ((10,\"Harris\"), (11, \"Stockton\"), (20, \"Hollingsworth\"), (25, \"Martin\"))\n",
    "print(thistuple)"
   ]
  },
  {
   "cell_type": "code",
   "execution_count": 32,
   "id": "22e65663",
   "metadata": {},
   "outputs": [
    {
     "name": "stdout",
     "output_type": "stream",
     "text": [
      "{'Harris': 10, 'Stockton': 11, 'Hollingsworth': 20, 'Martin': 25}\n"
     ]
    }
   ],
   "source": [
    "dct = dict((y, x) for x, y in thistuple)\n",
    "print(dct)"
   ]
  },
  {
   "cell_type": "code",
   "execution_count": 33,
   "id": "0502b73f",
   "metadata": {},
   "outputs": [
    {
     "name": "stdout",
     "output_type": "stream",
     "text": [
      "dragon\n",
      "unicorn\n",
      "basilisk\n"
     ]
    }
   ],
   "source": [
    "# packing into variable c\n",
    "c = (\"dragon\", \"unicorn\", \"basilisk\") \n",
    " \n",
    "# unpacking variable c\n",
    "(gold, white, green) = c \n",
    " \n",
    "print(gold)\n",
    " \n",
    "print(white)\n",
    " \n",
    "print(green)"
   ]
  },
  {
   "cell_type": "code",
   "execution_count": 34,
   "id": "ec911536",
   "metadata": {},
   "outputs": [],
   "source": [
    "a_dict = {'I hate':'you', 'You should':'leave'}"
   ]
  },
  {
   "cell_type": "code",
   "execution_count": 35,
   "id": "89a4be99",
   "metadata": {},
   "outputs": [
    {
     "name": "stdout",
     "output_type": "stream",
     "text": [
      "dict_keys(['I hate', 'You should'])\n"
     ]
    }
   ],
   "source": [
    "x = a_dict.keys()\n",
    "print(x)"
   ]
  },
  {
   "cell_type": "code",
   "execution_count": 36,
   "id": "38322ef0",
   "metadata": {},
   "outputs": [
    {
     "name": "stdout",
     "output_type": "stream",
     "text": [
      "dict_items([('dragon', 'gold'), ('unicorn', 'white'), ('basilisk', 'green')])\n"
     ]
    }
   ],
   "source": [
    "Myth_Creat = {'dragon':'gold', 'unicorn':'white', 'basilisk':'green'}\n",
    "    \n",
    "x = Myth_Creat.items()\n",
    "\n",
    "print(x)"
   ]
  },
  {
   "cell_type": "code",
   "execution_count": 37,
   "id": "0b0a4ecc",
   "metadata": {},
   "outputs": [
    {
     "data": {
      "text/plain": [
       "dict_values(['gold', 'white', 'green'])"
      ]
     },
     "execution_count": 37,
     "metadata": {},
     "output_type": "execute_result"
    }
   ],
   "source": [
    "Myth_Creat.values()"
   ]
  },
  {
   "cell_type": "code",
   "execution_count": 38,
   "id": "0ba8647f",
   "metadata": {},
   "outputs": [],
   "source": [
    "del a_dict['I hate']"
   ]
  },
  {
   "cell_type": "code",
   "execution_count": 39,
   "id": "425c3d72",
   "metadata": {},
   "outputs": [
    {
     "name": "stdout",
     "output_type": "stream",
     "text": [
      "dict_keys(['You should'])\n"
     ]
    }
   ],
   "source": [
    "x = a_dict.keys()\n",
    "print(x)"
   ]
  },
  {
   "cell_type": "code",
   "execution_count": 40,
   "id": "69300674",
   "metadata": {},
   "outputs": [
    {
     "name": "stdout",
     "output_type": "stream",
     "text": [
      "dict_keys(['I hate', 'You should'])\n"
     ]
    }
   ],
   "source": [
    "a_dict = {'I hate':'you', 'You should':'leave'}\n",
    "x = a_dict.keys()\n",
    "print(x)"
   ]
  },
  {
   "cell_type": "code",
   "execution_count": 41,
   "id": "cefd80f9",
   "metadata": {},
   "outputs": [],
   "source": [
    "a_dict.clear()"
   ]
  },
  {
   "cell_type": "code",
   "execution_count": 42,
   "id": "d4e7f22c",
   "metadata": {},
   "outputs": [
    {
     "name": "stdout",
     "output_type": "stream",
     "text": [
      "dict_keys([])\n"
     ]
    }
   ],
   "source": [
    "x = a_dict.keys()\n",
    "print(x)"
   ]
  },
  {
   "cell_type": "markdown",
   "id": "23b61a51",
   "metadata": {},
   "source": [
    "## dir():"
   ]
  },
  {
   "cell_type": "code",
   "execution_count": 43,
   "id": "af6b20aa",
   "metadata": {},
   "outputs": [
    {
     "name": "stdout",
     "output_type": "stream",
     "text": [
      "['__class__', '__class_getitem__', '__contains__', '__delattr__', '__delitem__', '__dir__', '__doc__', '__eq__', '__format__', '__ge__', '__getattribute__', '__getitem__', '__gt__', '__hash__', '__init__', '__init_subclass__', '__ior__', '__iter__', '__le__', '__len__', '__lt__', '__ne__', '__new__', '__or__', '__reduce__', '__reduce_ex__', '__repr__', '__reversed__', '__ror__', '__setattr__', '__setitem__', '__sizeof__', '__str__', '__subclasshook__', 'clear', 'copy', 'fromkeys', 'get', 'items', 'keys', 'pop', 'popitem', 'setdefault', 'update', 'values']\n"
     ]
    }
   ],
   "source": [
    "print(dir(a_dict))"
   ]
  },
  {
   "cell_type": "code",
   "execution_count": 44,
   "id": "49a7665c",
   "metadata": {},
   "outputs": [
    {
     "name": "stdout",
     "output_type": "stream",
     "text": [
      "{'dog', 'ferret', 'cat', 'bird', 'fish'}\n"
     ]
    }
   ],
   "source": [
    "pet_set = {\"cat\", \"dog\", \"ferret\", \"bird\"}\n",
    "\n",
    "pet_set.add(\"fish\")\n",
    "\n",
    "print(pet_set)"
   ]
  },
  {
   "cell_type": "code",
   "execution_count": 45,
   "id": "e3b9e037",
   "metadata": {},
   "outputs": [
    {
     "name": "stdout",
     "output_type": "stream",
     "text": [
      "set()\n"
     ]
    }
   ],
   "source": [
    "pet_set.clear()\n",
    "\n",
    "print(pet_set)"
   ]
  },
  {
   "cell_type": "code",
   "execution_count": 46,
   "id": "6c312704",
   "metadata": {},
   "outputs": [
    {
     "data": {
      "text/plain": [
       "{'bird', 'cat', 'dog', 'ferret'}"
      ]
     },
     "execution_count": 46,
     "metadata": {},
     "output_type": "execute_result"
    }
   ],
   "source": [
    "pet_set = {\"cat\", \"dog\", \"ferret\", \"bird\"}\n",
    "pet_set.copy()"
   ]
  },
  {
   "cell_type": "code",
   "execution_count": 47,
   "id": "9702c394",
   "metadata": {},
   "outputs": [
    {
     "name": "stdout",
     "output_type": "stream",
     "text": [
      "{'dog', 'ferret', 'cat'}\n"
     ]
    }
   ],
   "source": [
    "pet_set = {\"cat\", \"dog\", \"ferret\", \"troll\"}\n",
    "myth = {\"dragon\", \"unicorn\", \"basilisk\", \"troll\"}\n",
    "\n",
    "pet_set_noTroll = pet_set.difference(myth)\n",
    "\n",
    "print(pet_set_noTroll) "
   ]
  },
  {
   "cell_type": "code",
   "execution_count": 48,
   "id": "12fb004f",
   "metadata": {},
   "outputs": [
    {
     "name": "stdout",
     "output_type": "stream",
     "text": [
      "{'dragon', 'unicorn', 'troll'}\n"
     ]
    }
   ],
   "source": [
    "myth = {\"dragon\", \"unicorn\", \"basilisk\", \"troll\"}\n",
    "myth.discard('basilisk')\n",
    "print(myth)"
   ]
  },
  {
   "cell_type": "code",
   "execution_count": 49,
   "id": "17361ef4",
   "metadata": {},
   "outputs": [
    {
     "name": "stdout",
     "output_type": "stream",
     "text": [
      "{'troll'}\n"
     ]
    }
   ],
   "source": [
    "myth = {\"dragon\", \"unicorn\", \"basilisk\", \"troll\"}\n",
    "pet_set = {\"cat\", \"dog\", \"ferret\", \"troll\"}\n",
    "\n",
    "z = myth.intersection(pet_set)\n",
    "\n",
    "print(z) "
   ]
  },
  {
   "cell_type": "code",
   "execution_count": 50,
   "id": "2a1e867d",
   "metadata": {},
   "outputs": [
    {
     "name": "stdout",
     "output_type": "stream",
     "text": [
      "True\n"
     ]
    }
   ],
   "source": [
    "myth = {\"dragon\", \"unicorn\", \"basilisk\", \"troll\"}\n",
    "pet_set = {\"cat\", \"dog\", \"ferret\", \"troll\",\"dragon\", \"unicorn\", \"basilisk\"}\n",
    "\n",
    "z = myth.issubset(pet_set)\n",
    "\n",
    "print(z) "
   ]
  },
  {
   "cell_type": "code",
   "execution_count": 51,
   "id": "a3d51bf1",
   "metadata": {},
   "outputs": [
    {
     "name": "stdout",
     "output_type": "stream",
     "text": [
      "{'dragon', 'ferret', 'cat', 'unicorn', 'basilisk', 'troll'}\n"
     ]
    }
   ],
   "source": [
    "pet_set = {\"cat\", \"dog\", \"ferret\", \"troll\",\"dragon\", \"unicorn\", \"basilisk\"}\n",
    "pet_set.pop()\n",
    "print(pet_set)"
   ]
  },
  {
   "cell_type": "code",
   "execution_count": 52,
   "id": "0c5748dc",
   "metadata": {},
   "outputs": [
    {
     "name": "stdout",
     "output_type": "stream",
     "text": [
      "{'dog', 'dragon', 'ferret', 'unicorn', 'basilisk', 'troll'}\n"
     ]
    }
   ],
   "source": [
    "pet_set = {\"cat\", \"dog\", \"ferret\", \"troll\",\"dragon\", \"unicorn\", \"basilisk\"}\n",
    "\n",
    "pet_set .remove(\"cat\")\n",
    "\n",
    "print(pet_set ) "
   ]
  },
  {
   "cell_type": "code",
   "execution_count": 53,
   "id": "b216b39a",
   "metadata": {},
   "outputs": [
    {
     "name": "stdout",
     "output_type": "stream",
     "text": [
      "{'dog', 'dragon', 'ferret', 'cat', 'unicorn', 'basilisk', 'troll'}\n"
     ]
    }
   ],
   "source": [
    "pet_set = {\"cat\", \"dog\", \"ferret\"}\n",
    "myth = {\"dragon\", \"unicorn\", \"basilisk\", \"troll\"}\n",
    "\n",
    "z = pet_set.union(myth)\n",
    "\n",
    "print(z) "
   ]
  },
  {
   "cell_type": "code",
   "execution_count": 54,
   "id": "36f2a545",
   "metadata": {},
   "outputs": [
    {
     "name": "stdout",
     "output_type": "stream",
     "text": [
      "{'dog', 'ferret', 'cat', 'hedgehog', 'bird', 'hamster'}\n"
     ]
    }
   ],
   "source": [
    "pet_set = {\"cat\", \"dog\", \"ferret\"}\n",
    "pet2 = {\"bird\", \"hamster\", \"hedgehog\"}\n",
    "\n",
    "pet_set.update(pet2)\n",
    "\n",
    "print(pet_set) "
   ]
  },
  {
   "cell_type": "code",
   "execution_count": 55,
   "id": "2e898332",
   "metadata": {},
   "outputs": [
    {
     "name": "stdout",
     "output_type": "stream",
     "text": [
      "You shall not pass!!.\n"
     ]
    }
   ],
   "source": [
    "txt = \"you shall not pass!!.\"\n",
    "\n",
    "x = txt.capitalize()\n",
    "\n",
    "print (x) "
   ]
  },
  {
   "cell_type": "code",
   "execution_count": 56,
   "id": "265f356d",
   "metadata": {},
   "outputs": [
    {
     "name": "stdout",
     "output_type": "stream",
     "text": [
      "i am a leaf on the wind!\n"
     ]
    }
   ],
   "source": [
    "txt = \"I Am A Leaf On The Wind!\"\n",
    "\n",
    "x = txt.casefold()\n",
    "\n",
    "print(x) "
   ]
  },
  {
   "cell_type": "code",
   "execution_count": 57,
   "id": "f0ea8c4b",
   "metadata": {},
   "outputs": [
    {
     "name": "stdout",
     "output_type": "stream",
     "text": [
      "                           Smoke me a Kipper, I'll be back for breakfast.                           \n"
     ]
    }
   ],
   "source": [
    "txt = \"Smoke me a Kipper, I'll be back for breakfast.\"\n",
    "\n",
    "x = txt.center(100)\n",
    "\n",
    "print(x) "
   ]
  },
  {
   "cell_type": "code",
   "execution_count": 58,
   "id": "332373ed",
   "metadata": {},
   "outputs": [
    {
     "name": "stdout",
     "output_type": "stream",
     "text": [
      "2\n"
     ]
    }
   ],
   "source": [
    "txt = \"Fear leads to anger; anger leads to hatred; hatred leads to conflict; conflict leads to suffering.\"\n",
    "\n",
    "x = txt.count(\"hatred\")\n",
    "\n",
    "print(x) "
   ]
  },
  {
   "cell_type": "code",
   "execution_count": 59,
   "id": "df802270",
   "metadata": {},
   "outputs": [
    {
     "name": "stdout",
     "output_type": "stream",
     "text": [
      "b\"Let's be bad guys\"\n"
     ]
    }
   ],
   "source": [
    "txt = \"Let's be bad guys\"\n",
    "\n",
    "x = txt.encode()\n",
    "\n",
    "print(x)"
   ]
  },
  {
   "cell_type": "code",
   "execution_count": 60,
   "id": "5853f764",
   "metadata": {},
   "outputs": [
    {
     "name": "stdout",
     "output_type": "stream",
     "text": [
      "16\n"
     ]
    }
   ],
   "source": [
    "txt = \"Don't roll your eyes, Dean. It's impolite.\"\n",
    "\n",
    "x = txt.find(\"eyes\")\n",
    "\n",
    "print(x) "
   ]
  },
  {
   "cell_type": "code",
   "execution_count": 61,
   "id": "21ef1d69",
   "metadata": {},
   "outputs": [
    {
     "name": "stdout",
     "output_type": "stream",
     "text": [
      "('With great power ', 'comes', ' great micromanaging')\n"
     ]
    }
   ],
   "source": [
    "txt = \"With great power comes great micromanaging\"\n",
    "\n",
    "x = txt.partition(\"comes\")\n",
    "\n",
    "print(x)"
   ]
  },
  {
   "cell_type": "code",
   "execution_count": 62,
   "id": "c6d7a2d5",
   "metadata": {},
   "outputs": [
    {
     "name": "stdout",
     "output_type": "stream",
     "text": [
      "Have you tried shutting it off and on again?\n"
     ]
    }
   ],
   "source": [
    "txt = \"Have you tried turning it off and on again?\"\n",
    "\n",
    "x = txt.replace(\"turning\", \"shutting\")\n",
    "\n",
    "print(x) "
   ]
  },
  {
   "cell_type": "code",
   "execution_count": 63,
   "id": "935f39a2",
   "metadata": {},
   "outputs": [
    {
     "name": "stdout",
     "output_type": "stream",
     "text": [
      "['When', 'people', 'talk', 'listen', 'completely']\n"
     ]
    }
   ],
   "source": [
    "txt = \"When people talk listen completely\"\n",
    "\n",
    "x = txt.split()\n",
    "\n",
    "print(x) "
   ]
  },
  {
   "cell_type": "code",
   "execution_count": 64,
   "id": "59a3dc7b",
   "metadata": {},
   "outputs": [
    {
     "name": "stdout",
     "output_type": "stream",
     "text": [
      "Listen To Many, Speak To Few\n"
     ]
    }
   ],
   "source": [
    "txt = \"listen to many, speak to few\"\n",
    "\n",
    "x = txt.title()\n",
    "\n",
    "print(x) "
   ]
  },
  {
   "cell_type": "code",
   "execution_count": 65,
   "id": "9c63d912",
   "metadata": {},
   "outputs": [
    {
     "name": "stdout",
     "output_type": "stream",
     "text": [
      "0000000000013\n"
     ]
    }
   ],
   "source": [
    "txt = \"13\"\n",
    "\n",
    "x = txt.zfill(13)\n",
    "\n",
    "print(x)"
   ]
  },
  {
   "cell_type": "code",
   "execution_count": 66,
   "id": "89c36338",
   "metadata": {},
   "outputs": [
    {
     "data": {
      "text/plain": [
       "Counter({'t': 4,\n",
       "         'e': 3,\n",
       "         'b': 3,\n",
       "         'm': 3,\n",
       "         's': 1,\n",
       "         'u': 1,\n",
       "         'c': 1,\n",
       "         'o': 1,\n",
       "         'i': 1})"
      ]
     },
     "execution_count": 66,
     "metadata": {},
     "output_type": "execute_result"
    }
   ],
   "source": [
    "from collections import Counter\n",
    "\n",
    "letters = Counter({\"t\": 2, \"e\": 1, \"b\": 2, \"m\": 1})\n",
    "\n",
    "letters.update(\"subcommittee\")\n",
    "letters"
   ]
  },
  {
   "cell_type": "code",
   "execution_count": 67,
   "id": "0b525717",
   "metadata": {},
   "outputs": [
    {
     "data": {
      "text/plain": [
       "Counter({'W/R/V': 1,\n",
       "         'W/N/B': 1,\n",
       "         'W/N/Y/M': 1,\n",
       "         'W/N/R/B/Y': 1,\n",
       "         'R/V/Y': 1,\n",
       "         'W/N/R/Y': 1,\n",
       "         'N/R/B/V/Y': 1,\n",
       "         'R/B/Y': 1,\n",
       "         'W/R/B/V': 1,\n",
       "         'W/B/Y': 1,\n",
       "         'B/V/Y': 1,\n",
       "         'B/R': 1,\n",
       "         'N/R': 1,\n",
       "         'W/R': 1,\n",
       "         'W/N/B/V/V/Y/P': 1,\n",
       "         'W/B/V/M': 1,\n",
       "         'W/R/B': 1,\n",
       "         'N/V/Y': 1,\n",
       "         'W/B/V/O': 1,\n",
       "         'N/R/B/Y/M': 1,\n",
       "         'W/N/V/Y': 1,\n",
       "         'W/V/Y': 1,\n",
       "         'W/N/R/B/Y/G': 1,\n",
       "         'R/B/O': 1,\n",
       "         'W/B/V': 1,\n",
       "         'W/N/R/B/V/Y/M': 1,\n",
       "         'N/R/V/Y': 1,\n",
       "         'W/N/R': 1,\n",
       "         'N/R/V': 1,\n",
       "         'R/Y': 1,\n",
       "         'W/N/R/V': 1,\n",
       "         'W/V/O': 1,\n",
       "         'V/Y': 1,\n",
       "         'V': 1,\n",
       "         'N/R/Y': 1,\n",
       "         'W/R/B/V/Y': 1,\n",
       "         'W/B/V/Y': 1,\n",
       "         'R/B/V/Y': 1,\n",
       "         'W/R/B/V/Y/P': 1,\n",
       "         'W/R/V/Y': 1,\n",
       "         'W/N/R/B/V/Y/G/M': 1,\n",
       "         'R/V/Y/O': 1,\n",
       "         'W/N/R/O': 1,\n",
       "         'W/G': 1,\n",
       "         'W/N/R/V/Y': 1,\n",
       "         'W/N/R/G': 1,\n",
       "         'W/N/B/Y': 1,\n",
       "         'B/Y': 1,\n",
       "         'R/G': 1,\n",
       "         'N/R/B/Y': 1,\n",
       "         'W/N/R/B/V/O/M': 1,\n",
       "         'W/N/R/B': 1,\n",
       "         'W/R/B/Y': 1,\n",
       "         'N/B/Y': 1,\n",
       "         'W/N/B/V/Y/G/M': 1,\n",
       "         'W/N/R/Y/G': 1,\n",
       "         'W/N/R/B/V/Y': 1,\n",
       "         'N/B/V/Y': 1,\n",
       "         'N/R/V/O/M': 1})"
      ]
     },
     "execution_count": 67,
     "metadata": {},
     "output_type": "execute_result"
    }
   ],
   "source": [
    "flower_orders= Counter({'W/R/B','W/R/B','W/R/B','W/R/B','W/R/B','W/R/B','W/R/B','W/R/B','W/R/B','W/R/B','W/R/B','W/R/B','W/R/B','W/R/B','W/R/B','W/R/B','W/R/B','W/R/B','W/R/B','W/R/B','W/R/B','W/R/B','W/R/B','W/R/B','W/R/B','W/R/B','W/R/B','W/R/B','W/R/B','W/R/B','W/R','W/R','W/R','W/R','W/R','W/R','W/R','W/R','W/R','W/R','W/R','W/R','W/R','W/R','W/R','W/R','R/V/Y','R/V/Y','R/V/Y','R/V/Y','R/V/Y','R/V/Y','R/V/Y','R/V/Y','R/V/Y','R/V/Y','W/R/V','W/R/V','W/R/V','W/R/V','W/R/V','W/R/V','W/R/V','W/R/V','W/R/V','W/R/V','W/N/R/V','W/N/R/V','W/N/R/V','W/N/R/V','W/N/R/V','W/N/R/V','W/N/R/V','W/N/R/V','W/R/B/Y','W/R/B/Y','W/R/B/Y','W/R/B/Y','W/R/B/Y','W/R/B/Y','B/Y','B/Y','B/Y','B/Y','B/Y','R/B/Y','R/B/Y','R/B/Y','R/B/Y','R/B/Y','W/N/R/B/V/Y','W/N/R/B/V/Y','W/N/R/B/V/Y','W/N/R/B/V/Y','W/N/R/B/V/Y','W/G','W/G','W/G','W/G','R/Y','R/Y','R/Y','R/Y','N/R/V/Y','N/R/V/Y','N/R/V/Y','N/R/V/Y','W/R/B/V','W/R/B/V','W/R/B/V','W/R/B/V','W/N/R/V/Y','W/N/R/V/Y','W/N/R/V/Y','W/N/R/V/Y','N/R/Y','N/R/Y','N/R/Y','W/V/O','W/V/O','W/V/O','W/N/R/Y','W/N/R/Y','W/N/R/Y','R/B/V/Y','R/B/V/Y','R/B/V/Y','W/R/V/Y','W/R/V/Y','W/R/V/Y','W/R/B/V/Y','W/R/B/V/Y','W/R/B/V/Y','W/N/R/B/Y','W/N/R/B/Y','W/N/R/B/Y','R/G','R/G','B/V/Y','B/V/Y','N/B/Y','N/B/Y','W/B/Y','W/B/Y','W/N/B','W/N/B','W/N/R','W/N/R','W/N/B/Y','W/N/B/Y','W/B/V/Y','W/B/V/Y','W/N/R/B/V/Y/G/M','W/N/R/B/V/Y/G/M','B/R','N/R','V/Y','V','N/R/V','N/V/Y','R/B/O','W/B/V','W/V/Y','W/N/R/B','W/N/R/O','W/N/R/G','W/N/V/Y','W/N/Y/M','N/R/B/Y','N/B/V/Y','R/V/Y/O','W/B/V/M','W/B/V/O','N/R/B/Y/M','N/R/V/O/M','W/N/R/Y/G','N/R/B/V/Y','W/R/B/V/Y/P','W/N/R/B/Y/G','W/N/R/B/V/O/M','W/N/R/B/V/Y/M','W/N/B/V/Y/G/M','W/N/B/V/V/Y/P'})\n",
    "flower_orders"
   ]
  },
  {
   "cell_type": "code",
   "execution_count": 68,
   "id": "0c561c9a",
   "metadata": {},
   "outputs": [],
   "source": [
    "flower_orders =['W/R/B','W/R/B','W/R/B','W/R/B','W/R/B','W/R/B','W/R/B','W/R/B','W/R/B','W/R/B','W/R/B','W/R/B','W/R/B','W/R/B','W/R/B','W/R/B','W/R/B','W/R/B','W/R/B','W/R/B','W/R/B','W/R/B','W/R/B','W/R/B','W/R/B','W/R/B','W/R/B','W/R/B','W/R/B','W/R/B','W/R','W/R','W/R','W/R','W/R','W/R','W/R','W/R','W/R','W/R','W/R','W/R','W/R','W/R','W/R','W/R','R/V/Y','R/V/Y','R/V/Y','R/V/Y','R/V/Y','R/V/Y','R/V/Y','R/V/Y','R/V/Y','R/V/Y','W/R/V','W/R/V','W/R/V','W/R/V','W/R/V','W/R/V','W/R/V','W/R/V','W/R/V','W/R/V','W/N/R/V','W/N/R/V','W/N/R/V','W/N/R/V','W/N/R/V','W/N/R/V','W/N/R/V','W/N/R/V','W/R/B/Y','W/R/B/Y','W/R/B/Y','W/R/B/Y','W/R/B/Y','W/R/B/Y','B/Y','B/Y','B/Y','B/Y','B/Y','R/B/Y','R/B/Y','R/B/Y','R/B/Y','R/B/Y','W/N/R/B/V/Y','W/N/R/B/V/Y','W/N/R/B/V/Y','W/N/R/B/V/Y','W/N/R/B/V/Y','W/G','W/G','W/G','W/G','R/Y','R/Y','R/Y','R/Y','N/R/V/Y','N/R/V/Y','N/R/V/Y','N/R/V/Y','W/R/B/V','W/R/B/V','W/R/B/V','W/R/B/V','W/N/R/V/Y','W/N/R/V/Y','W/N/R/V/Y','W/N/R/V/Y','N/R/Y','N/R/Y','N/R/Y','W/V/O','W/V/O','W/V/O','W/N/R/Y','W/N/R/Y','W/N/R/Y','R/B/V/Y','R/B/V/Y','R/B/V/Y','W/R/V/Y','W/R/V/Y','W/R/V/Y','W/R/B/V/Y','W/R/B/V/Y','W/R/B/V/Y','W/N/R/B/Y','W/N/R/B/Y','W/N/R/B/Y','R/G','R/G','B/V/Y','B/V/Y','N/B/Y','N/B/Y','W/B/Y','W/B/Y','W/N/B','W/N/B','W/N/R','W/N/R','W/N/B/Y','W/N/B/Y','W/B/V/Y','W/B/V/Y','W/N/R/B/V/Y/G/M','W/N/R/B/V/Y/G/M','B/R','N/R','V/Y','V','N/R/V','N/V/Y','R/B/O','W/B/V','W/V/Y','W/N/R/B','W/N/R/O','W/N/R/G','W/N/V/Y','W/N/Y/M','N/R/B/Y','N/B/V/Y','R/V/Y/O','W/B/V/M','W/B/V/O','N/R/B/Y/M','N/R/V/O/M','W/N/R/Y/G','N/R/B/V/Y','W/R/B/V/Y/P','W/N/R/B/Y/G','W/N/R/B/V/O/M','W/N/R/B/V/Y/M','W/N/B/V/Y/G/M','W/N/B/V/V/Y/P']\n"
   ]
  },
  {
   "cell_type": "code",
   "execution_count": 69,
   "id": "9cabb931",
   "metadata": {},
   "outputs": [
    {
     "name": "stdout",
     "output_type": "stream",
     "text": [
      "['WRB', 'WRB', 'WRB', 'WRB', 'WRB', 'WRB', 'WRB', 'WRB', 'WRB', 'WRB', 'WRB', 'WRB', 'WRB', 'WRB', 'WRB', 'WRB', 'WRB', 'WRB', 'WRB', 'WRB', 'WRB', 'WRB', 'WRB', 'WRB', 'WRB', 'WRB', 'WRB', 'WRB', 'WRB', 'WRB', 'WR', 'WR', 'WR', 'WR', 'WR', 'WR', 'WR', 'WR', 'WR', 'WR', 'WR', 'WR', 'WR', 'WR', 'WR', 'WR', 'RVY', 'RVY', 'RVY', 'RVY', 'RVY', 'RVY', 'RVY', 'RVY', 'RVY', 'RVY', 'WRV', 'WRV', 'WRV', 'WRV', 'WRV', 'WRV', 'WRV', 'WRV', 'WRV', 'WRV', 'WNRV', 'WNRV', 'WNRV', 'WNRV', 'WNRV', 'WNRV', 'WNRV', 'WNRV', 'WRBY', 'WRBY', 'WRBY', 'WRBY', 'WRBY', 'WRBY', 'BY', 'BY', 'BY', 'BY', 'BY', 'RBY', 'RBY', 'RBY', 'RBY', 'RBY', 'WNRBVY', 'WNRBVY', 'WNRBVY', 'WNRBVY', 'WNRBVY', 'WG', 'WG', 'WG', 'WG', 'RY', 'RY', 'RY', 'RY', 'NRVY', 'NRVY', 'NRVY', 'NRVY', 'WRBV', 'WRBV', 'WRBV', 'WRBV', 'WNRVY', 'WNRVY', 'WNRVY', 'WNRVY', 'NRY', 'NRY', 'NRY', 'WVO', 'WVO', 'WVO', 'WNRY', 'WNRY', 'WNRY', 'RBVY', 'RBVY', 'RBVY', 'WRVY', 'WRVY', 'WRVY', 'WRBVY', 'WRBVY', 'WRBVY', 'WNRBY', 'WNRBY', 'WNRBY', 'RG', 'RG', 'BVY', 'BVY', 'NBY', 'NBY', 'WBY', 'WBY', 'WNB', 'WNB', 'WNR', 'WNR', 'WNBY', 'WNBY', 'WBVY', 'WBVY', 'WNRBVYGM', 'WNRBVYGM', 'BR', 'NR', 'VY', 'V', 'NRV', 'NVY', 'RBO', 'WBV', 'WVY', 'WNRB', 'WNRO', 'WNRG', 'WNVY', 'WNYM', 'NRBY', 'NBVY', 'RVYO', 'WBVM', 'WBVO', 'NRBYM', 'NRVOM', 'WNRYG', 'NRBVY', 'WRBVYP', 'WNRBYG', 'WNRBVOM', 'WNRBVYM', 'WNBVYGM', 'WNBVVYP']\n"
     ]
    }
   ],
   "source": [
    "# Remove character '/' from the flower_orders\n",
    "ch = '/'\n",
    "flower_orders = [elem.replace(ch, '') for elem in flower_orders]\n",
    "print(flower_orders)"
   ]
  },
  {
   "cell_type": "code",
   "execution_count": 70,
   "id": "a2486b52",
   "metadata": {},
   "outputs": [
    {
     "data": {
      "text/plain": [
       "Counter({'WRB': 30,\n",
       "         'WR': 16,\n",
       "         'RVY': 10,\n",
       "         'WRV': 10,\n",
       "         'WNRV': 8,\n",
       "         'WRBY': 6,\n",
       "         'BY': 5,\n",
       "         'RBY': 5,\n",
       "         'WNRBVY': 5,\n",
       "         'WG': 4,\n",
       "         'RY': 4,\n",
       "         'NRVY': 4,\n",
       "         'WRBV': 4,\n",
       "         'WNRVY': 4,\n",
       "         'NRY': 3,\n",
       "         'WVO': 3,\n",
       "         'WNRY': 3,\n",
       "         'RBVY': 3,\n",
       "         'WRVY': 3,\n",
       "         'WRBVY': 3,\n",
       "         'WNRBY': 3,\n",
       "         'RG': 2,\n",
       "         'BVY': 2,\n",
       "         'NBY': 2,\n",
       "         'WBY': 2,\n",
       "         'WNB': 2,\n",
       "         'WNR': 2,\n",
       "         'WNBY': 2,\n",
       "         'WBVY': 2,\n",
       "         'WNRBVYGM': 2,\n",
       "         'BR': 1,\n",
       "         'NR': 1,\n",
       "         'VY': 1,\n",
       "         'V': 1,\n",
       "         'NRV': 1,\n",
       "         'NVY': 1,\n",
       "         'RBO': 1,\n",
       "         'WBV': 1,\n",
       "         'WVY': 1,\n",
       "         'WNRB': 1,\n",
       "         'WNRO': 1,\n",
       "         'WNRG': 1,\n",
       "         'WNVY': 1,\n",
       "         'WNYM': 1,\n",
       "         'NRBY': 1,\n",
       "         'NBVY': 1,\n",
       "         'RVYO': 1,\n",
       "         'WBVM': 1,\n",
       "         'WBVO': 1,\n",
       "         'NRBYM': 1,\n",
       "         'NRVOM': 1,\n",
       "         'WNRYG': 1,\n",
       "         'NRBVY': 1,\n",
       "         'WRBVYP': 1,\n",
       "         'WNRBYG': 1,\n",
       "         'WNRBVOM': 1,\n",
       "         'WNRBVYM': 1,\n",
       "         'WNBVYGM': 1,\n",
       "         'WNBVVYP': 1})"
      ]
     },
     "execution_count": 70,
     "metadata": {},
     "output_type": "execute_result"
    }
   ],
   "source": [
    "flower_orders= Counter(['WRB', 'WRB', 'WRB', 'WRB', 'WRB', 'WRB', 'WRB', 'WRB', 'WRB', 'WRB', 'WRB', 'WRB', 'WRB', 'WRB', 'WRB', 'WRB', 'WRB', 'WRB', 'WRB', 'WRB', 'WRB', 'WRB', 'WRB', 'WRB', 'WRB', 'WRB', 'WRB', 'WRB', 'WRB', 'WRB', 'WR', 'WR', 'WR', 'WR', 'WR', 'WR', 'WR', 'WR', 'WR', 'WR', 'WR', 'WR', 'WR', 'WR', 'WR', 'WR', 'RVY', 'RVY', 'RVY', 'RVY', 'RVY', 'RVY', 'RVY', 'RVY', 'RVY', 'RVY', 'WRV', 'WRV', 'WRV', 'WRV', 'WRV', 'WRV', 'WRV', 'WRV', 'WRV', 'WRV', 'WNRV', 'WNRV', 'WNRV', 'WNRV', 'WNRV', 'WNRV', 'WNRV', 'WNRV', 'WRBY', 'WRBY', 'WRBY', 'WRBY', 'WRBY', 'WRBY', 'BY', 'BY', 'BY', 'BY', 'BY', 'RBY', 'RBY', 'RBY', 'RBY', 'RBY', 'WNRBVY', 'WNRBVY', 'WNRBVY', 'WNRBVY', 'WNRBVY', 'WG', 'WG', 'WG', 'WG', 'RY', 'RY', 'RY', 'RY', 'NRVY', 'NRVY', 'NRVY', 'NRVY', 'WRBV', 'WRBV', 'WRBV', 'WRBV', 'WNRVY', 'WNRVY', 'WNRVY', 'WNRVY', 'NRY', 'NRY', 'NRY', 'WVO', 'WVO', 'WVO', 'WNRY', 'WNRY', 'WNRY', 'RBVY', 'RBVY', 'RBVY', 'WRVY', 'WRVY', 'WRVY', 'WRBVY', 'WRBVY', 'WRBVY', 'WNRBY', 'WNRBY', 'WNRBY', 'RG', 'RG', 'BVY', 'BVY', 'NBY', 'NBY', 'WBY', 'WBY', 'WNB', 'WNB', 'WNR', 'WNR', 'WNBY', 'WNBY', 'WBVY', 'WBVY', 'WNRBVYGM', 'WNRBVYGM', 'BR', 'NR', 'VY', 'V', 'NRV', 'NVY', 'RBO', 'WBV', 'WVY', 'WNRB', 'WNRO', 'WNRG', 'WNVY', 'WNYM', 'NRBY', 'NBVY', 'RVYO', 'WBVM', 'WBVO', 'NRBYM', 'NRVOM', 'WNRYG', 'NRBVY', 'WRBVYP', 'WNRBYG', 'WNRBVOM', 'WNRBVYM', 'WNBVYGM', 'WNBVVYP'])\n",
    "flower_orders"
   ]
  },
  {
   "cell_type": "code",
   "execution_count": 71,
   "id": "151ca7c9",
   "metadata": {},
   "outputs": [
    {
     "name": "stdout",
     "output_type": "stream",
     "text": [
      "WRB\n",
      "WRB\n",
      "WRB\n",
      "WRB\n",
      "WRB\n",
      "WRB\n",
      "WRB\n",
      "WRB\n",
      "WRB\n",
      "WRB\n",
      "WRB\n",
      "WRB\n",
      "WRB\n",
      "WRB\n",
      "WRB\n",
      "WRB\n",
      "WRB\n",
      "WRB\n",
      "WRB\n",
      "WRB\n",
      "WRB\n",
      "WRB\n",
      "WRB\n",
      "WRB\n",
      "WRB\n",
      "WRB\n",
      "WRB\n",
      "WRB\n",
      "WRB\n",
      "WRB\n",
      "WR\n",
      "WR\n",
      "WR\n",
      "WR\n",
      "WR\n",
      "WR\n",
      "WR\n",
      "WR\n",
      "WR\n",
      "WR\n",
      "WR\n",
      "WR\n",
      "WR\n",
      "WR\n",
      "WR\n",
      "WR\n",
      "RVY\n",
      "RVY\n",
      "RVY\n",
      "RVY\n",
      "RVY\n",
      "RVY\n",
      "RVY\n",
      "RVY\n",
      "RVY\n",
      "RVY\n",
      "WRV\n",
      "WRV\n",
      "WRV\n",
      "WRV\n",
      "WRV\n",
      "WRV\n",
      "WRV\n",
      "WRV\n",
      "WRV\n",
      "WRV\n",
      "WNRV\n",
      "WNRV\n",
      "WNRV\n",
      "WNRV\n",
      "WNRV\n",
      "WNRV\n",
      "WNRV\n",
      "WNRV\n",
      "WRBY\n",
      "WRBY\n",
      "WRBY\n",
      "WRBY\n",
      "WRBY\n",
      "WRBY\n",
      "BY\n",
      "BY\n",
      "BY\n",
      "BY\n",
      "BY\n",
      "RBY\n",
      "RBY\n",
      "RBY\n",
      "RBY\n",
      "RBY\n",
      "WNRBVY\n",
      "WNRBVY\n",
      "WNRBVY\n",
      "WNRBVY\n",
      "WNRBVY\n",
      "WG\n",
      "WG\n",
      "WG\n",
      "WG\n",
      "RY\n",
      "RY\n",
      "RY\n",
      "RY\n",
      "NRVY\n",
      "NRVY\n",
      "NRVY\n",
      "NRVY\n",
      "WRBV\n",
      "WRBV\n",
      "WRBV\n",
      "WRBV\n",
      "WNRVY\n",
      "WNRVY\n",
      "WNRVY\n",
      "WNRVY\n",
      "NRY\n",
      "NRY\n",
      "NRY\n",
      "WVO\n",
      "WVO\n",
      "WVO\n",
      "WNRY\n",
      "WNRY\n",
      "WNRY\n",
      "RBVY\n",
      "RBVY\n",
      "RBVY\n",
      "WRVY\n",
      "WRVY\n",
      "WRVY\n",
      "WRBVY\n",
      "WRBVY\n",
      "WRBVY\n",
      "WNRBY\n",
      "WNRBY\n",
      "WNRBY\n",
      "RG\n",
      "RG\n",
      "BVY\n",
      "BVY\n",
      "NBY\n",
      "NBY\n",
      "WBY\n",
      "WBY\n",
      "WNB\n",
      "WNB\n",
      "WNR\n",
      "WNR\n",
      "WNBY\n",
      "WNBY\n",
      "WBVY\n",
      "WBVY\n",
      "WNRBVYGM\n",
      "WNRBVYGM\n",
      "BR\n",
      "NR\n",
      "VY\n",
      "V\n",
      "NRV\n",
      "NVY\n",
      "RBO\n",
      "WBV\n",
      "WVY\n",
      "WNRB\n",
      "WNRO\n",
      "WNRG\n",
      "WNVY\n",
      "WNYM\n",
      "NRBY\n",
      "NBVY\n",
      "RVYO\n",
      "WBVM\n",
      "WBVO\n",
      "NRBYM\n",
      "NRVOM\n",
      "WNRYG\n",
      "NRBVY\n",
      "WRBVYP\n",
      "WNRBYG\n",
      "WNRBVOM\n",
      "WNRBVYM\n",
      "WNBVYGM\n",
      "WNBVVYP\n"
     ]
    }
   ],
   "source": [
    "flower_orders = ['WRB', 'WRB', 'WRB', 'WRB', 'WRB', 'WRB', 'WRB', 'WRB', 'WRB', 'WRB', 'WRB', 'WRB', 'WRB', 'WRB', 'WRB', 'WRB', 'WRB', 'WRB', 'WRB', 'WRB', 'WRB', 'WRB', 'WRB', 'WRB', 'WRB', 'WRB', 'WRB', 'WRB', 'WRB', 'WRB', 'WR', 'WR', 'WR', 'WR', 'WR', 'WR', 'WR', 'WR', 'WR', 'WR', 'WR', 'WR', 'WR', 'WR', 'WR', 'WR', 'RVY', 'RVY', 'RVY', 'RVY', 'RVY', 'RVY', 'RVY', 'RVY', 'RVY', 'RVY', 'WRV', 'WRV', 'WRV', 'WRV', 'WRV', 'WRV', 'WRV', 'WRV', 'WRV', 'WRV', 'WNRV', 'WNRV', 'WNRV', 'WNRV', 'WNRV', 'WNRV', 'WNRV', 'WNRV', 'WRBY', 'WRBY', 'WRBY', 'WRBY', 'WRBY', 'WRBY', 'BY', 'BY', 'BY', 'BY', 'BY', 'RBY', 'RBY', 'RBY', 'RBY', 'RBY', 'WNRBVY', 'WNRBVY', 'WNRBVY', 'WNRBVY', 'WNRBVY', 'WG', 'WG', 'WG', 'WG', 'RY', 'RY', 'RY', 'RY', 'NRVY', 'NRVY', 'NRVY', 'NRVY', 'WRBV', 'WRBV', 'WRBV', 'WRBV', 'WNRVY', 'WNRVY', 'WNRVY', 'WNRVY', 'NRY', 'NRY', 'NRY', 'WVO', 'WVO', 'WVO', 'WNRY', 'WNRY', 'WNRY', 'RBVY', 'RBVY', 'RBVY', 'WRVY', 'WRVY', 'WRVY', 'WRBVY', 'WRBVY', 'WRBVY', 'WNRBY', 'WNRBY', 'WNRBY', 'RG', 'RG', 'BVY', 'BVY', 'NBY', 'NBY', 'WBY', 'WBY', 'WNB', 'WNB', 'WNR', 'WNR', 'WNBY', 'WNBY', 'WBVY', 'WBVY', 'WNRBVYGM', 'WNRBVYGM', 'BR', 'NR', 'VY', 'V', 'NRV', 'NVY', 'RBO', 'WBV', 'WVY', 'WNRB', 'WNRO', 'WNRG', 'WNVY', 'WNYM', 'NRBY', 'NBVY', 'RVYO', 'WBVM', 'WBVO', 'NRBYM', 'NRVOM', 'WNRYG', 'NRBVY', 'WRBVYP', 'WNRBYG', 'WNRBVOM', 'WNRBVYM', 'WNBVYGM', 'WNBVVYP']\n",
    "for x in flower_orders:\n",
    "  print(x)"
   ]
  },
  {
   "cell_type": "code",
   "execution_count": 72,
   "id": "ef26305b",
   "metadata": {},
   "outputs": [
    {
     "name": "stdout",
     "output_type": "stream",
     "text": [
      "['WRB', 'WRB', 'WRB', 'WRB', 'WRB', 'WRB', 'WRB', 'WRB', 'WRB', 'WRB', 'WRB', 'WRB', 'WRB', 'WRB', 'WRB', 'WRB', 'WRB', 'WRB', 'WRB', 'WRB', 'WRB', 'WRB', 'WRB', 'WRB', 'WRB', 'WRB', 'WRB', 'WRB', 'WRB', 'WRB', 'WR', 'WR', 'WR', 'WR', 'WR', 'WR', 'WR', 'WR', 'WR', 'WR', 'WR', 'WR', 'WR', 'WR', 'WR', 'WR', 'WRV', 'WRV', 'WRV', 'WRV', 'WRV', 'WRV', 'WRV', 'WRV', 'WRV', 'WRV', 'WNRV', 'WNRV', 'WNRV', 'WNRV', 'WNRV', 'WNRV', 'WNRV', 'WNRV', 'WRBY', 'WRBY', 'WRBY', 'WRBY', 'WRBY', 'WRBY', 'WNRBVY', 'WNRBVY', 'WNRBVY', 'WNRBVY', 'WNRBVY', 'WG', 'WG', 'WG', 'WG', 'WRBV', 'WRBV', 'WRBV', 'WRBV', 'WNRVY', 'WNRVY', 'WNRVY', 'WNRVY', 'WVO', 'WVO', 'WVO', 'WNRY', 'WNRY', 'WNRY', 'WRVY', 'WRVY', 'WRVY', 'WRBVY', 'WRBVY', 'WRBVY', 'WNRBY', 'WNRBY', 'WNRBY', 'WBY', 'WBY', 'WNB', 'WNB', 'WNR', 'WNR', 'WNBY', 'WNBY', 'WBVY', 'WBVY', 'WNRBVYGM', 'WNRBVYGM', 'WBV', 'WVY', 'WNRB', 'WNRO', 'WNRG', 'WNVY', 'WNYM', 'WBVM', 'WBVO', 'WNRYG', 'WRBVYP', 'WNRBYG', 'WNRBVOM', 'WNRBVYM', 'WNBVYGM', 'WNBVVYP']\n"
     ]
    }
   ],
   "source": [
    "flower_orders = ['WRB', 'WRB', 'WRB', 'WRB', 'WRB', 'WRB', 'WRB', 'WRB', 'WRB', 'WRB', 'WRB', 'WRB', 'WRB', 'WRB', 'WRB', 'WRB', 'WRB', 'WRB', 'WRB', 'WRB', 'WRB', 'WRB', 'WRB', 'WRB', 'WRB', 'WRB', 'WRB', 'WRB', 'WRB', 'WRB', 'WR', 'WR', 'WR', 'WR', 'WR', 'WR', 'WR', 'WR', 'WR', 'WR', 'WR', 'WR', 'WR', 'WR', 'WR', 'WR', 'RVY', 'RVY', 'RVY', 'RVY', 'RVY', 'RVY', 'RVY', 'RVY', 'RVY', 'RVY', 'WRV', 'WRV', 'WRV', 'WRV', 'WRV', 'WRV', 'WRV', 'WRV', 'WRV', 'WRV', 'WNRV', 'WNRV', 'WNRV', 'WNRV', 'WNRV', 'WNRV', 'WNRV', 'WNRV', 'WRBY', 'WRBY', 'WRBY', 'WRBY', 'WRBY', 'WRBY', 'BY', 'BY', 'BY', 'BY', 'BY', 'RBY', 'RBY', 'RBY', 'RBY', 'RBY', 'WNRBVY', 'WNRBVY', 'WNRBVY', 'WNRBVY', 'WNRBVY', 'WG', 'WG', 'WG', 'WG', 'RY', 'RY', 'RY', 'RY', 'NRVY', 'NRVY', 'NRVY', 'NRVY', 'WRBV', 'WRBV', 'WRBV', 'WRBV', 'WNRVY', 'WNRVY', 'WNRVY', 'WNRVY', 'NRY', 'NRY', 'NRY', 'WVO', 'WVO', 'WVO', 'WNRY', 'WNRY', 'WNRY', 'RBVY', 'RBVY', 'RBVY', 'WRVY', 'WRVY', 'WRVY', 'WRBVY', 'WRBVY', 'WRBVY', 'WNRBY', 'WNRBY', 'WNRBY', 'RG', 'RG', 'BVY', 'BVY', 'NBY', 'NBY', 'WBY', 'WBY', 'WNB', 'WNB', 'WNR', 'WNR', 'WNBY', 'WNBY', 'WBVY', 'WBVY', 'WNRBVYGM', 'WNRBVYGM', 'BR', 'NR', 'VY', 'V', 'NRV', 'NVY', 'RBO', 'WBV', 'WVY', 'WNRB', 'WNRO', 'WNRG', 'WNVY', 'WNYM', 'NRBY', 'NBVY', 'RVYO', 'WBVM', 'WBVO', 'NRBYM', 'NRVOM', 'WNRYG', 'NRBVY', 'WRBVYP', 'WNRBYG', 'WNRBVOM', 'WNRBVYM', 'WNBVYGM', 'WNBVVYP']\n",
    "\n",
    "newlist = [x for x in flower_orders if \"W\" in x]\n",
    "\n",
    "print(newlist) "
   ]
  },
  {
   "cell_type": "code",
   "execution_count": 73,
   "id": "c20716ec",
   "metadata": {},
   "outputs": [
    {
     "data": {
      "text/plain": [
       "Counter({'WRB': 30,\n",
       "         'WR': 16,\n",
       "         'WRV': 10,\n",
       "         'WNRV': 8,\n",
       "         'WRBY': 6,\n",
       "         'WNRBVY': 5,\n",
       "         'WG': 4,\n",
       "         'WRBV': 4,\n",
       "         'WNRVY': 4,\n",
       "         'WVO': 3,\n",
       "         'WNRY': 3,\n",
       "         'WRVY': 3,\n",
       "         'WRBVY': 3,\n",
       "         'WNRBY': 3,\n",
       "         'WBY': 2,\n",
       "         'WNB': 2,\n",
       "         'WNR': 2,\n",
       "         'WNBY': 2,\n",
       "         'WBVY': 2,\n",
       "         'WNRBVYGM': 2,\n",
       "         'WBV': 1,\n",
       "         'WVY': 1,\n",
       "         'WNRB': 1,\n",
       "         'WNRO': 1,\n",
       "         'WNRG': 1,\n",
       "         'WNVY': 1,\n",
       "         'WNYM': 1,\n",
       "         'WBVM': 1,\n",
       "         'WBVO': 1,\n",
       "         'WNRYG': 1,\n",
       "         'WRBVYP': 1,\n",
       "         'WNRBYG': 1,\n",
       "         'WNRBVOM': 1,\n",
       "         'WNRBVYM': 1,\n",
       "         'WNBVYGM': 1,\n",
       "         'WNBVVYP': 1})"
      ]
     },
     "execution_count": 73,
     "metadata": {},
     "output_type": "execute_result"
    }
   ],
   "source": [
    "newlist= Counter(['WRB', 'WRB', 'WRB', 'WRB', 'WRB', 'WRB', 'WRB', 'WRB', 'WRB', 'WRB', 'WRB', 'WRB', 'WRB', 'WRB', 'WRB', 'WRB', 'WRB', 'WRB', 'WRB', 'WRB', 'WRB', 'WRB', 'WRB', 'WRB', 'WRB', 'WRB', 'WRB', 'WRB', 'WRB', 'WRB', 'WR', 'WR', 'WR', 'WR', 'WR', 'WR', 'WR', 'WR', 'WR', 'WR', 'WR', 'WR', 'WR', 'WR', 'WR', 'WR', 'WRV', 'WRV', 'WRV', 'WRV', 'WRV', 'WRV', 'WRV', 'WRV', 'WRV', 'WRV', 'WNRV', 'WNRV', 'WNRV', 'WNRV', 'WNRV', 'WNRV', 'WNRV', 'WNRV', 'WRBY', 'WRBY', 'WRBY', 'WRBY', 'WRBY', 'WRBY', 'WNRBVY', 'WNRBVY', 'WNRBVY', 'WNRBVY', 'WNRBVY', 'WG', 'WG', 'WG', 'WG', 'WRBV', 'WRBV', 'WRBV', 'WRBV', 'WNRVY', 'WNRVY', 'WNRVY', 'WNRVY', 'WVO', 'WVO', 'WVO', 'WNRY', 'WNRY', 'WNRY', 'WRVY', 'WRVY', 'WRVY', 'WRBVY', 'WRBVY', 'WRBVY', 'WNRBY', 'WNRBY', 'WNRBY', 'WBY', 'WBY', 'WNB', 'WNB', 'WNR', 'WNR', 'WNBY', 'WNBY', 'WBVY', 'WBVY', 'WNRBVYGM', 'WNRBVYGM', 'WBV', 'WVY', 'WNRB', 'WNRO', 'WNRG', 'WNVY', 'WNYM', 'WBVM', 'WBVO', 'WNRYG', 'WRBVYP', 'WNRBYG', 'WNRBVOM', 'WNRBVYM', 'WNBVYGM', 'WNBVVYP'])\n",
    "newlist"
   ]
  },
  {
   "cell_type": "code",
   "execution_count": 74,
   "id": "d225bb65",
   "metadata": {},
   "outputs": [
    {
     "name": "stdout",
     "output_type": "stream",
     "text": [
      "36\n"
     ]
    }
   ],
   "source": [
    "print(len(newlist))"
   ]
  },
  {
   "cell_type": "code",
   "execution_count": 75,
   "id": "0fd0f000",
   "metadata": {},
   "outputs": [
    {
     "name": "stdout",
     "output_type": "stream",
     "text": [
      "130\n"
     ]
    }
   ],
   "source": [
    "Wlist = ['WRB', 'WRB', 'WRB', 'WRB', 'WRB', 'WRB', 'WRB', 'WRB', 'WRB', 'WRB', 'WRB', 'WRB', 'WRB', 'WRB', 'WRB', 'WRB', 'WRB', 'WRB', 'WRB', 'WRB', 'WRB', 'WRB', 'WRB', 'WRB', 'WRB', 'WRB', 'WRB', 'WRB', 'WRB', 'WRB', 'WR', 'WR', 'WR', 'WR', 'WR', 'WR', 'WR', 'WR', 'WR', 'WR', 'WR', 'WR', 'WR', 'WR', 'WR', 'WR', 'WRV', 'WRV', 'WRV', 'WRV', 'WRV', 'WRV', 'WRV', 'WRV', 'WRV', 'WRV', 'WNRV', 'WNRV', 'WNRV', 'WNRV', 'WNRV', 'WNRV', 'WNRV', 'WNRV', 'WRBY', 'WRBY', 'WRBY', 'WRBY', 'WRBY', 'WRBY', 'WNRBVY', 'WNRBVY', 'WNRBVY', 'WNRBVY', 'WNRBVY', 'WG', 'WG', 'WG', 'WG', 'WRBV', 'WRBV', 'WRBV', 'WRBV', 'WNRVY', 'WNRVY', 'WNRVY', 'WNRVY', 'WVO', 'WVO', 'WVO', 'WNRY', 'WNRY', 'WNRY', 'WRVY', 'WRVY', 'WRVY', 'WRBVY', 'WRBVY', 'WRBVY', 'WNRBY', 'WNRBY', 'WNRBY', 'WBY', 'WBY', 'WNB', 'WNB', 'WNR', 'WNR', 'WNBY', 'WNBY', 'WBVY', 'WBVY', 'WNRBVYGM', 'WNRBVYGM', 'WBV', 'WVY', 'WNRB', 'WNRO', 'WNRG', 'WNVY', 'WNYM', 'WBVM', 'WBVO', 'WNRYG', 'WRBVYP', 'WNRBYG', 'WNRBVOM', 'WNRBVYM', 'WNBVYGM', 'WNBVVYP']\n",
    "print(len(Wlist))"
   ]
  },
  {
   "cell_type": "code",
   "execution_count": 76,
   "id": "d76b509f",
   "metadata": {},
   "outputs": [
    {
     "data": {
      "image/png": "[encoded data removed]",
      "text/plain": [
       "<Figure size 432x288 with 1 Axes>"
      ]
     },
     "metadata": {
      "needs_background": "light"
     },
     "output_type": "display_data"
    }
   ],
   "source": [
    "# Histogram of flower_orders\n",
    "import matplotlib.pyplot as plt\n",
    "\n",
    "flower_orders = ['WRB', 'WRB', 'WRB', 'WRB', 'WRB', 'WRB', 'WRB', 'WRB', 'WRB', 'WRB', 'WRB', 'WRB', 'WRB', 'WRB', 'WRB', 'WRB', 'WRB', 'WRB', 'WRB', 'WRB', 'WRB', 'WRB', 'WRB', 'WRB', 'WRB', 'WRB', 'WRB', 'WRB', 'WRB', 'WRB', 'WR', 'WR', 'WR', 'WR', 'WR', 'WR', 'WR', 'WR', 'WR', 'WR', 'WR', 'WR', 'WR', 'WR', 'WR', 'WR', 'RVY', 'RVY', 'RVY', 'RVY', 'RVY', 'RVY', 'RVY', 'RVY', 'RVY', 'RVY', 'WRV', 'WRV', 'WRV', 'WRV', 'WRV', 'WRV', 'WRV', 'WRV', 'WRV', 'WRV', 'WNRV', 'WNRV', 'WNRV', 'WNRV', 'WNRV', 'WNRV', 'WNRV', 'WNRV', 'WRBY', 'WRBY', 'WRBY', 'WRBY', 'WRBY', 'WRBY', 'BY', 'BY', 'BY', 'BY', 'BY', 'RBY', 'RBY', 'RBY', 'RBY', 'RBY', 'WNRBVY', 'WNRBVY', 'WNRBVY', 'WNRBVY', 'WNRBVY', 'WG', 'WG', 'WG', 'WG', 'RY', 'RY', 'RY', 'RY', 'NRVY', 'NRVY', 'NRVY', 'NRVY', 'WRBV', 'WRBV', 'WRBV', 'WRBV', 'WNRVY', 'WNRVY', 'WNRVY', 'WNRVY', 'NRY', 'NRY', 'NRY', 'WVO', 'WVO', 'WVO', 'WNRY', 'WNRY', 'WNRY', 'RBVY', 'RBVY', 'RBVY', 'WRVY', 'WRVY', 'WRVY', 'WRBVY', 'WRBVY', 'WRBVY', 'WNRBY', 'WNRBY', 'WNRBY', 'RG', 'RG', 'BVY', 'BVY', 'NBY', 'NBY', 'WBY', 'WBY', 'WNB', 'WNB', 'WNR', 'WNR', 'WNBY', 'WNBY', 'WBVY', 'WBVY', 'WNRBVYGM', 'WNRBVYGM', 'BR', 'NR', 'VY', 'V', 'NRV', 'NVY', 'RBO', 'WBV', 'WVY', 'WNRB', 'WNRO', 'WNRG', 'WNVY', 'WNYM', 'NRBY', 'NBVY', 'RVYO', 'WBVM', 'WBVO', 'NRBYM', 'NRVOM', 'WNRYG', 'NRBVY', 'WRBVYP', 'WNRBYG', 'WNRBVOM', 'WNRBVYM', 'WNBVYGM', 'WNBVVYP']\n",
    "\n",
    "plt.hist(flower_orders, bins=25, rwidth=0.9)\n",
    "plt.title('Flower Colors')\n",
    "plt.xlabel('Color Combinations')\n",
    "plt.ylabel('Counts')\n",
    "plt.grid(axis='y', alpha=0.95)\n",
    "plt.show() "
   ]
  },
  {
   "cell_type": "markdown",
   "id": "2b5b7281",
   "metadata": {},
   "source": [
    "# Hint from JohnP - Itertools has a permutation function that might help with these next two.\n",
    "4.\tRank the pairs of colors in each order regardless of how many colors are in an order.\n"
   ]
  },
  {
   "cell_type": "code",
   "execution_count": 77,
   "id": "d478b075",
   "metadata": {},
   "outputs": [],
   "source": [
    "def permutations(iterable, r=None):\n",
    "    # permutations('ABCD', 2) --> AB AC AD BA BC BD CA CB CD DA DB DC\n",
    "    # permutations(range(3)) --> 012 021 102 120 201 210\n",
    "    pool = tuple(iterable)\n",
    "    n = len(pool)\n",
    "    r = n if r is None else r\n",
    "    if r > n:\n",
    "        return\n",
    "    indices = list(range(n))\n",
    "    cycles = list(range(n, n-r, -1))\n",
    "    yield tuple(pool[i] for i in indices[:r])\n",
    "    while n:\n",
    "        for i in reversed(range(r)):\n",
    "            cycles[i] -= 1\n",
    "            if cycles[i] == 0:\n",
    "                indices[i:] = indices[i+1:] + indices[i:i+1]\n",
    "                cycles[i] = n - i\n",
    "            else:\n",
    "                j = cycles[i]\n",
    "                indices[i], indices[-j] = indices[-j], indices[i]\n",
    "                yield tuple(pool[i] for i in indices[:r])\n",
    "                break\n",
    "        else:\n",
    "            return"
   ]
  },
  {
   "cell_type": "code",
   "execution_count": null,
   "id": "65d79765",
   "metadata": {},
   "outputs": [],
   "source": [
    "str = ['WRB', 'WRB', 'WRB', 'WRB', 'WRB', 'WRB', 'WRB', 'WRB', 'WRB', 'WRB', 'WRB', 'WRB', 'WRB', 'WRB', 'WRB', 'WRB', 'WRB', 'WRB', 'WRB', 'WRB', 'WRB', 'WRB', 'WRB', 'WRB', 'WRB', 'WRB', 'WRB', 'WRB', 'WRB', 'WRB', 'WR', 'WR', 'WR', 'WR', 'WR', 'WR', 'WR', 'WR', 'WR', 'WR', 'WR', 'WR', 'WR', 'WR', 'WR', 'WR', 'RVY', 'RVY', 'RVY', 'RVY', 'RVY', 'RVY', 'RVY', 'RVY', 'RVY', 'RVY', 'WRV', 'WRV', 'WRV', 'WRV', 'WRV', 'WRV', 'WRV', 'WRV', 'WRV', 'WRV', 'WNRV', 'WNRV', 'WNRV', 'WNRV', 'WNRV', 'WNRV', 'WNRV', 'WNRV', 'WRBY', 'WRBY', 'WRBY', 'WRBY', 'WRBY', 'WRBY', 'BY', 'BY', 'BY', 'BY', 'BY', 'RBY', 'RBY', 'RBY', 'RBY', 'RBY', 'WNRBVY', 'WNRBVY', 'WNRBVY', 'WNRBVY', 'WNRBVY', 'WG', 'WG', 'WG', 'WG', 'RY', 'RY', 'RY', 'RY', 'NRVY', 'NRVY', 'NRVY', 'NRVY', 'WRBV', 'WRBV', 'WRBV', 'WRBV', 'WNRVY', 'WNRVY', 'WNRVY', 'WNRVY', 'NRY', 'NRY', 'NRY', 'WVO', 'WVO', 'WVO', 'WNRY', 'WNRY', 'WNRY', 'RBVY', 'RBVY', 'RBVY', 'WRVY', 'WRVY', 'WRVY', 'WRBVY', 'WRBVY', 'WRBVY', 'WNRBY', 'WNRBY', 'WNRBY', 'RG', 'RG', 'BVY', 'BVY', 'NBY', 'NBY', 'WBY', 'WBY', 'WNB', 'WNB', 'WNR', 'WNR', 'WNBY', 'WNBY', 'WBVY', 'WBVY', 'WNRBVYGM', 'WNRBVYGM', 'BR', 'NR', 'VY', 'V', 'NRV', 'NVY', 'RBO', 'WBV', 'WVY', 'WNRB', 'WNRO', 'WNRG', 'WNVY', 'WNYM', 'NRBY', 'NBVY', 'RVYO', 'WBVM', 'WBVO', 'NRBYM', 'NRVOM', 'WNRYG', 'NRBVY', 'WRBVYP', 'WNRBYG', 'WNRBVOM', 'WNRBVYM', 'WNBVYGM', 'WNBVVYP']\n",
    "perm = permutations(str);\n",
    "list(perm)"
   ]
  },
  {
   "cell_type": "markdown",
   "id": "af81ef8a",
   "metadata": {},
   "source": [
    "5.\tRank the triplets of colors in each order regardless of how many colors are in an order."
   ]
  },
  {
   "cell_type": "code",
   "execution_count": null,
   "id": "eb12a87f",
   "metadata": {},
   "outputs": [],
   "source": []
  },
  {
   "cell_type": "markdown",
   "id": "c9d590b0",
   "metadata": {},
   "source": [
    "6. Make dictionary color for keys and values are what other colors it is ordered with."
   ]
  },
  {
   "cell_type": "markdown",
   "id": "2c344acc",
   "metadata": {},
   "source": [
    "7. Make a graph showing the probability of having an edge between two colors based on how often they co-occur.  (a numpy square matrix)"
   ]
  },
  {
   "cell_type": "code",
   "execution_count": 79,
   "id": "4cc98bfe",
   "metadata": {},
   "outputs": [
    {
     "name": "stdout",
     "output_type": "stream",
     "text": [
      "Four score and seven years ago our fathers brought forth on this continent a new nation, conceived in liberty and dedicated to the proposition that all men are created equal. Now we are engaged in a great civil war, testing whether that nation or any nation so conceived and so dedicated can long endure. We are met on a great battlefield of that war. We have come to dedicate a portion of that field as a final resting-place for those who here gave their lives that that nation might live. It is altogether fitting and proper that we should do this. But in a larger sense, we cannot dedicate, we cannot consecrate, we cannot hallow this ground. The brave men, living and dead who struggled here have consecrated it far above our poor power to add or detract. The world will little note nor long remember what we say here, but it can never forget what they did here. It is for us the living rather to be dedicated here to the unfinished work which they who fought here have thus far so nobly advanced. It is rather for us to be here dedicated to the great task remaining before us--that from these honored dead we take increased devotion to that cause for which they gave the last full measure of devotion--that we here highly resolve that these dead shall not have died in vain, that this nation under God shall have a new birth of freedom, and that government of the people, by the people, for the people shall not perish from the earth.\n"
     ]
    }
   ],
   "source": [
    "dead_men_tell_tales=['Four score and seven years ago our fathers brought forth on this',\n",
    "'continent a new nation, conceived in liberty and dedicated to the',\n",
    "'proposition that all men are created equal. Now we are engaged in',\n",
    "'a great civil war, testing whether that nation or any nation so',\n",
    "'conceived and so dedicated can long endure. We are met on a great',\n",
    "'battlefield of that war. We have come to dedicate a portion of',\n",
    "'that field as a final resting-place for those who here gave their',\n",
    "'lives that that nation might live. It is altogether fitting and',\n",
    "'proper that we should do this. But in a larger sense, we cannot',\n",
    "'dedicate, we cannot consecrate, we cannot hallow this ground.',\n",
    "'The brave men, living and dead who struggled here have consecrated',\n",
    "'it far above our poor power to add or detract. The world will',\n",
    "'little note nor long remember what we say here, but it can never',\n",
    "'forget what they did here. It is for us the living rather to be',\n",
    "'dedicated here to the unfinished work which they who fought here',\n",
    "'have thus far so nobly advanced. It is rather for us to be here',\n",
    "'dedicated to the great task remaining before us--that from these',\n",
    "'honored dead we take increased devotion to that cause for which',\n",
    "'they gave the last full measure of devotion--that we here highly',\n",
    "'resolve that these dead shall not have died in vain, that this',\n",
    "'nation under God shall have a new birth of freedom, and that',\n",
    "'government of the people, by the people, for the people shall',\n",
    "'not perish from the earth.']\n",
    "\n",
    "x = \" \".join(dead_men_tell_tales)\n",
    "print(x)"
   ]
  },
  {
   "cell_type": "code",
   "execution_count": 80,
   "id": "42efe15a",
   "metadata": {},
   "outputs": [
    {
     "data": {
      "text/plain": [
       "'Fourscoreandsevenyearsagoourfathersbroughtforthonthiscontinentanewnation,conceivedinlibertyanddedicatedtothepropositionthatallmenarecreatedequal.Nowweareengagedinagreatcivilwar,testingwhetherthatnationoranynationsoconceivedandsodedicatedcanlongendure.Wearemetonagreatbattlefieldofthatwar.Wehavecometodedicateaportionofthatfieldasafinalresting-placeforthosewhoheregavetheirlivesthatthatnationmightlive.Itisaltogetherfittingandproperthatweshoulddothis.Butinalargersense,wecannotdedicate,wecannotconsecrate,wecannothallowthisground.Thebravemen,livinganddeadwhostruggledherehaveconsecrateditfaraboveourpoorpowertoaddordetract.Theworldwilllittlenotenorlongrememberwhatwesayhere,butitcanneverforgetwhattheydidhere.Itisforusthelivingrathertobededicatedheretotheunfinishedworkwhichtheywhofoughtherehavethusfarsonoblyadvanced.Itisratherforustobeherededicatedtothegreattaskremainingbeforeus--thatfromthesehonoreddeadwetakeincreaseddevotiontothatcauseforwhichtheygavethelastfullmeasureofdevotion--thatweherehighlyresolvethatthesedeadshallnothavediedinvain,thatthisnationunderGodshallhaveanewbirthoffreedom,andthatgovernmentofthepeople,bythepeople,forthepeopleshallnotperishfromtheearth.'"
      ]
     },
     "execution_count": 80,
     "metadata": {},
     "output_type": "execute_result"
    }
   ],
   "source": [
    "x.replace(\" \",\"\")"
   ]
  },
  {
   "cell_type": "code",
   "execution_count": 81,
   "id": "2c66a5d8",
   "metadata": {},
   "outputs": [
    {
     "ename": "TypeError",
     "evalue": "'list' object is not callable",
     "output_type": "error",
     "traceback": [
      "\u001b[1;31m---------------------------------------------------------------------------\u001b[0m",
      "\u001b[1;31mTypeError\u001b[0m                                 Traceback (most recent call last)",
      "\u001b[1;32m~\\AppData\\Local\\Temp/ipykernel_25536/4005364407.py\u001b[0m in \u001b[0;36m<module>\u001b[1;34m\u001b[0m\n\u001b[0;32m      8\u001b[0m \u001b[1;33m\u001b[0m\u001b[0m\n\u001b[0;32m      9\u001b[0m print (\"Count of all characters is :\\n \"\n\u001b[1;32m---> 10\u001b[1;33m                                       +  str(res))\n\u001b[0m",
      "\u001b[1;31mTypeError\u001b[0m: 'list' object is not callable"
     ]
    }
   ],
   "source": [
    "# Occurrence frequency of each character using \n",
    "# collections.Counter()\n",
    "from collections import Counter\n",
    "  \n",
    "no_spaces = 'Fourscoreandsevenyearsagoourfathersbroughtforthonthiscontinentanewnation,conceivedinlibertyanddedicatedtothepropositionthatallmenarecreatedequal.Nowweareengagedinagreatcivilwar,testingwhetherthatnationoranynationsoconceivedandsodedicatedcanlongendure.Wearemetonagreatbattlefieldofthatwar.Wehavecometodedicateaportionofthatfieldasafinalresting-placeforthosewhoheregavetheirlivesthatthatnationmightlive.Itisaltogetherfittingandproperthatweshoulddothis.Butinalargersense,wecannotdedicate,wecannotconsecrate,wecannothallowthisground.Thebravemen,livinganddeadwhostruggledherehaveconsecrateditfaraboveourpoorpowertoaddordetract.Theworldwilllittlenotenorlongrememberwhatwesayhere,butitcanneverforgetwhattheydidhere.Itisforusthelivingrathertobededicatedheretotheunfinishedworkwhichtheywhofoughtherehavethusfarsonoblyadvanced.Itisratherforustobeherededicatedtothegreattaskremainingbeforeus--thatfromthesehonoreddeadwetakeincreaseddevotiontothatcauseforwhichtheygavethelastfullmeasureofdevotion--thatweherehighlyresolvethatthesedeadshallnothavediedinvain,thatthisnationunderGodshallhaveanewbirthoffreedom,andthatgovernmentofthepeople,bythepeople,forthepeopleshallnotperishfromtheearth.'\n",
    "  \n",
    "res = Counter(no_spaces)\n",
    "\n",
    "print (\"Count of all characters is :\\n \"\n",
    "                                      +  str(res))"
   ]
  },
  {
   "cell_type": "code",
   "execution_count": null,
   "id": "7edab258",
   "metadata": {},
   "outputs": [],
   "source": [
    "print(len(no_spaces))"
   ]
  },
  {
   "cell_type": "code",
   "execution_count": null,
   "id": "c830d740",
   "metadata": {},
   "outputs": [],
   "source": []
  }
 ],
 "metadata": {
  "kernelspec": {
   "display_name": "Python 3 (ipykernel)",
   "language": "python",
   "name": "python3"
  },
  "language_info": {
   "codemirror_mode": {
    "name": "ipython",
    "version": 3
   },
   "file_extension": ".py",
   "mimetype": "text/x-python",
   "name": "python",
   "nbconvert_exporter": "python",
   "pygments_lexer": "ipython3",
   "version": "3.9.7"
  }
 },
 "nbformat": 4,
 "nbformat_minor": 5
}
